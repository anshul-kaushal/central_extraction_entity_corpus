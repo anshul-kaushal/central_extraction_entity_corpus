{
 "cells": [
  {
   "cell_type": "markdown",
   "id": "8d75dc55-c1ad-4ad4-b18a-6de1ba782f53",
   "metadata": {},
   "source": [
    "# Annotation + explanation + code"
   ]
  },
  {
   "cell_type": "markdown",
   "id": "4f96bf3d-c006-46d0-bf11-ae8e38d05d62",
   "metadata": {},
   "source": [
    "## Relevant links"
   ]
  },
  {
   "cell_type": "markdown",
   "id": "77f4460b-36e7-4a7b-b5c3-1a64d51f3994",
   "metadata": {},
   "source": [
    "### Final annotation"
   ]
  },
  {
   "cell_type": "markdown",
   "id": "022cc147-cbef-4842-bcff-b6c09ec8ec90",
   "metadata": {},
   "source": [
    "#### [The final annotated corpus in .tsv format](https://github.ubc.ca/mds-cl-2021-22/523_group_9/blob/master/milestone_3/final_annotated_corpus.tsv)"
   ]
  },
  {
   "cell_type": "markdown",
   "id": "99b23ede-7cf9-4f69-b8f9-89e06f2816dd",
   "metadata": {},
   "source": [
    "The final annotations, as linked above, are stored in a .tsv file format. The file contains 4 columns and 500 examples in total. 2 of the 4 columns are annotated columns. A brief description of each column is provided below:\n",
    "- `Title`: The title or the headline of the news article.\n",
    "- `Text`: The body of the news article.\n",
    "- `central_entity (ANNOTATED)`: The central or the main identified entity in the news article.\n",
    "- `type (ANNOTATED)` : The central entity classified into `FILM`, `FILM-CREW`, `PERFORMER` or `OTHERS`."
   ]
  },
  {
   "cell_type": "markdown",
   "id": "208eb892-3fbd-415d-8d70-371f4856416e",
   "metadata": {},
   "source": [
    "### Intermediary files"
   ]
  },
  {
   "cell_type": "markdown",
   "id": "adc04710-84c9-4243-b22a-9e2b41c6d1ba",
   "metadata": {},
   "source": [
    "#### - Two CSV files containing separate annotations by [Anshul Kaushal](https://github.ubc.ca/mds-cl-2021-22/523_group_9/blob/master/milestone_3/intermediary_files/anshul_wei_annotated_anshul.csv) and [Wei Dong](https://github.ubc.ca/mds-cl-2021-22/523_group_9/blob/master/milestone_3/intermediary_files/anshul_wei_annotated_wei.csv) for the first 165 examples of the corpus.\n",
    "#### - Two CSV files containing separate annotations by [Anshul Kaushal](https://github.ubc.ca/mds-cl-2021-22/523_group_9/blob/master/milestone_3/intermediary_files/anshul_chao_annotated_anshul.csv) and [Chao Ding](https://github.ubc.ca/mds-cl-2021-22/523_group_9/blob/master/milestone_3/intermediary_files/anshul_chao_annotated_chao.csv) for the next 170 examples of the corpus.\n",
    "#### - Two CSV files containing separate annotations by [Chao Ding](https://github.ubc.ca/mds-cl-2021-22/523_group_9/blob/master/milestone_3/intermediary_files/chao_wei_annotated_chao.csv) and [Wei Dong](https://github.ubc.ca/mds-cl-2021-22/523_group_9/blob/master/milestone_3/intermediary_files/chao_wei_annotated_wei.csv) for the last 165 examples of the corpus."
   ]
  },
  {
   "cell_type": "markdown",
   "id": "d2ffba15-5e68-49e3-9d89-cc64510ed384",
   "metadata": {},
   "source": [
    "## Preparation of data "
   ]
  },
  {
   "cell_type": "markdown",
   "id": "63dfef6d-db47-452f-8036-656578c44099",
   "metadata": {},
   "source": [
    "#### - Initially the corpus was downloaded from [the git repository of the group](https://github.ubc.ca/mds-cl-2021-22/523_group_9/blob/master/milestone_2/corpus.tsv)."
   ]
  },
  {
   "cell_type": "code",
   "execution_count": 1,
   "id": "f526f5f2-7831-4b9b-adbb-537279f40746",
   "metadata": {},
   "outputs": [],
   "source": [
    "import pandas as pd"
   ]
  },
  {
   "cell_type": "code",
   "execution_count": 2,
   "id": "8a25f1b1-6920-43d3-8b36-05b41bb76998",
   "metadata": {},
   "outputs": [],
   "source": [
    "corpus = pd.read_csv('https://raw.github.ubc.ca/mds-cl-2021-22/523_group_9/master/milestone_2/corpus.tsv?token=AAAASZH2BS3F6YSEDGORQ5TCGVYTI', sep='\\t', encoding='utf-8')"
   ]
  },
  {
   "cell_type": "markdown",
   "id": "9a652519-eb9a-4765-9d75-7fe044004a65",
   "metadata": {},
   "source": [
    "#### - Further, it was divided into three segments containing 165, 170 and 165 examples respectively and converted into csv files."
   ]
  },
  {
   "cell_type": "code",
   "execution_count": 3,
   "id": "e112db59-5cbc-4e25-a4c8-8aaad6309a5c",
   "metadata": {},
   "outputs": [],
   "source": [
    "anshul_wei_df = corpus[:165]\n",
    "anshul_chao_df = corpus[165:335]\n",
    "chao_wei_df = corpus[335:500]"
   ]
  },
  {
   "cell_type": "code",
   "execution_count": 4,
   "id": "2b701f4e-6d14-492b-aa10-d16ac8d03312",
   "metadata": {},
   "outputs": [],
   "source": [
    "anshul_wei_df.to_csv('anshul_wei.csv', encoding='utf-8', index=False)\n",
    "anshul_chao_df.to_csv('anshul_chao.csv', encoding='utf-8', index=False)\n",
    "chao_wei_df.to_csv('chao_wei.csv', encoding='utf-8', index=False)"
   ]
  },
  {
   "cell_type": "markdown",
   "id": "065d12b6-5823-4a3c-a953-2dfc2659fce1",
   "metadata": {},
   "source": [
    "#### - Lastly, each file was assigned to two team members to be annotated separately."
   ]
  },
  {
   "cell_type": "markdown",
   "id": "0de37c8f-94f8-45bc-a317-21af41a46963",
   "metadata": {},
   "source": [
    "## Converting raw annotations into final annotations"
   ]
  },
  {
   "cell_type": "markdown",
   "id": "46ff38e0-3603-4c13-86b9-5405ef60873c",
   "metadata": {},
   "source": [
    "#### - All the 6 csv files, containing separate annotations by the team members for 2 files each was collected."
   ]
  },
  {
   "cell_type": "markdown",
   "id": "f92c982d-f76c-4734-a240-39fae9659825",
   "metadata": {},
   "source": [
    "#### - The files were converted into Pandas dataframes and cleaned to ensure uniformity in the naming of columns across all the six dataframes."
   ]
  },
  {
   "cell_type": "code",
   "execution_count": 5,
   "id": "b5af3028-10ef-4f0f-864a-8053951f1d97",
   "metadata": {},
   "outputs": [],
   "source": [
    "root_path = '/Users/anshulkaushal/desktop/annotation/'\n",
    "anshul_165 = pd.read_csv(root_path+'anshul_wei_annotated_anshul.csv', encoding='utf-8')\n",
    "wei_165 = pd.read_csv(root_path+'anshul_wei_annotated_wei.csv', encoding='utf-8')\n",
    "anshul_165_335 = pd.read_csv(root_path+'anshul_chao_annotated_anshul.csv', encoding='utf-8')\n",
    "chao_165_335 = pd.read_csv(root_path+'anshul_chao_annotated_chao.csv', encoding='utf-8')\n",
    "chao_335_500 = pd.read_csv(root_path+'chao_wei_annotated_chao.csv', encoding='utf-8')\n",
    "wei_335_500 = pd.read_csv(root_path+'chao_wei_annotated_wei.csv', encoding='utf-8')"
   ]
  },
  {
   "cell_type": "code",
   "execution_count": 6,
   "id": "d73e6e61-9b59-4688-8ebd-a3e9f9397016",
   "metadata": {},
   "outputs": [],
   "source": [
    "df_list = [anshul_165, wei_165, anshul_165_335, chao_165_335, chao_335_500, wei_335_500]"
   ]
  },
  {
   "cell_type": "code",
   "execution_count": 7,
   "id": "b5ac92f9-5660-4093-bbfb-50c738ab4529",
   "metadata": {},
   "outputs": [],
   "source": [
    "for df in df_list:\n",
    "    if 'Unnamed: 0' in df.columns:\n",
    "        df.drop(columns=['Unnamed: 0'], inplace=True)\n",
    "    if 'Unnamed: 3' in df.columns:\n",
    "        df.rename(columns={'Unnamed: 3': 'central_entity', 'Unnamed: 4': 'type'}, inplace=True)\n",
    "    if '    ' in df.columns:\n",
    "        df.drop(columns=['    '], inplace=True)\n",
    "    title = 'Title                                                                                         '\n",
    "    if title in df.columns:\n",
    "        df.rename(columns={title:'Title'}, inplace=True)"
   ]
  },
  {
   "cell_type": "markdown",
   "id": "ff717fc1-0532-428a-9f7a-cb1b280ec724",
   "metadata": {},
   "source": [
    "#### - For a pair of these dataframes, corresponding to separate annotations by 2 team members on each of the original three files (2 for each, 6 in total), any rising conflicts were identified and eliminated manually."
   ]
  },
  {
   "cell_type": "code",
   "execution_count": 8,
   "id": "cec53941-d0de-4636-8163-72cbb46134a3",
   "metadata": {},
   "outputs": [],
   "source": [
    "def get_conflicts(df_1, df_2):\n",
    "    conflict_list = []\n",
    "    col_entity_1 = df_1['central_entity'].to_list()\n",
    "    col_entity_2 = df_2['central_entity'].to_list()\n",
    "    col_type_1 = df_1['type'].to_list()\n",
    "    col_type_2 = df_2['type'].to_list()\n",
    "    for i, item in enumerate(col_entity_1):\n",
    "        if item != col_entity_2[i] or col_type_1[i] != col_type_2[i]:\n",
    "            conflict_list.append(i)\n",
    "    return conflict_list"
   ]
  },
  {
   "cell_type": "code",
   "execution_count": 9,
   "id": "4e3633c4-ebf0-4244-85dc-8fb995ab6da1",
   "metadata": {},
   "outputs": [],
   "source": [
    "anshul_wei_165 = get_conflicts(anshul_165, wei_165)"
   ]
  },
  {
   "cell_type": "code",
   "execution_count": 10,
   "id": "94afc9a0-e168-43e9-ac8d-46647a060edd",
   "metadata": {},
   "outputs": [],
   "source": [
    "anshul_chao_335 = get_conflicts(anshul_165_335, chao_165_335)"
   ]
  },
  {
   "cell_type": "code",
   "execution_count": 11,
   "id": "aa86e2cd-8d9a-49c6-8650-abd1faa3d648",
   "metadata": {},
   "outputs": [],
   "source": [
    "chao_wei_500 = get_conflicts(chao_335_500, wei_335_500)"
   ]
  },
  {
   "cell_type": "code",
   "execution_count": 12,
   "id": "31ca38a9-88e8-48c3-8a1e-e82790da7759",
   "metadata": {},
   "outputs": [],
   "source": [
    "def see_conflicts(conflict_list, df_1, df_2):\n",
    "    for conflict in conflict_list:\n",
    "        print(conflict)\n",
    "        print()\n",
    "        print(df_1.iloc[conflict]['Title'])\n",
    "        print()\n",
    "        print(df_1.iloc[conflict]['Text'])\n",
    "        print()\n",
    "        print(df_1.iloc[conflict]['central_entity'], df_1.iloc[conflict]['type'])\n",
    "        print(df_2.iloc[conflict]['central_entity'], df_2.iloc[conflict]['type'])\n",
    "        print()"
   ]
  },
  {
   "cell_type": "code",
   "execution_count": 13,
   "id": "8f1b9e39-c989-4417-8d62-d45ad95cdba5",
   "metadata": {
    "tags": []
   },
   "outputs": [
    {
     "name": "stdout",
     "output_type": "stream",
     "text": [
      "14\n",
      "\n",
      "'The most honest person I ever met': Chadwick Boseman's widow pays tribute at Gotham film awards\n",
      "\n",
      "The first significant awards event of the current film cycle spread its net wide, but the main attention of the 2021 Gotham awards, designed to reward independent film-makers, was focused on a tearful speech given by Simone Ledward as she accepted an award on behalf of her late husband Chadwick Boseman. Boseman had been announced as a recipient of the Gothams’ annual tribute award, along with Viola Davis, Steve McQueen and Ryan Murphy. Ledward, whose marriage to Boseman was made public only after the actor’s death, said in her speech: “He was the most honest person I ever met … He was blessed to live many lives within his concentrated one. He harnessed the power of letting go and letting God’s love shine through. May we not let his conviction be in vain. It is my honour on behalf of my husband.” She added: “Chad … thank you. I love you. I am so proud of you. Keep shining your light on us.” Boseman was also nominated for best actor for his performance in Ma Rainey’s Black Bottom, a biopic of the celebrated blues singer played by Davis. However, in the event the award went to Riz Ahmed for his role as a drummer with hearing problems in Sound of Metal, catapulting Ahmed into the wider awards race. There was another surprise win in the best actress category, with Nicole Beharie winning for her performance as a former pageant winner in Miss Juneteeth, defeating strong favourite Frances McDormand who had been nominated for festival hit Nomadland. However, Nomadland, the widely admired study of retiree victims of the 2008 financial crash directed by Chloé Zhao, did take two prizes – best feature and the audience award – making it the only film to claim more than one win on the night, cementing its status as an Oscar frontrunner. Michaela Coel’s I May Destroy You continued its remarkable run by picking up the breakthrough series – short format award. Full list of awards Best feature Nomadland Best documentary A Thousand Cuts Best international feature Identifying Features Breakthrough director award Andrew Patterson, The Vast of Night Best screenplay The Forty-Year-Old Version and Fourteen (joint winners) Best actor Riz Ahmed, Sound of Metal Best actress Nicole Beharie, Miss Juneteenth Breakthrough actor Kingsley Ben-Adir, One Night in Miami Breakthrough series – long format Watchmen Breakthrough Series – short format I May Destroy You Audience award Nomadland\n",
      "\n",
      "Chadwick Boseman PERFORMER\n",
      "Chadwick Boseman FILM-CREW\n",
      "\n",
      "29\n",
      "\n",
      "UK reimposes Covid-related travel restrictions on film and TV crew\n",
      "\n",
      "Film and TV crew are no longer exempt from coronavirus restrictions related to job travel, it has emerged. The UK government’s list of jobs that qualify for travel exemptions has been updated to remove “television production” and “high end television production and film”, which means that executives and crew arriving in the UK will have to isolate for 10 days. The move is a reversal of the widely publicised policy that saw film-makers and crew allowed into the UK in July without quarantine as part of a government drive to get film production in the UK back up and running. Culture secretary Oliver Dowden had made the announcement after apparently consulting with Tom Cruise, whose Mission Impossible films were among the Hollywood productions to restart shooting in the UK in September. Other productions likely to be affected include The Batman, starring Robert Pattinson, which had been halted for two weeks in September after Pattinson tested positive for coronavirus. The only media-related job on the government’s list still exempt from travel restrictions appears to be workers on the BBC’s broadcasting transmission network and services.\n",
      "\n",
      "UK government OTHERS\n",
      "None OTHERS\n",
      "\n",
      "37\n",
      "\n",
      "Cannes film festival 2021 to be delayed until July – report\n",
      "\n",
      "The Cannes film festival will be delayed from its customary May slot until July, it has been reported. According to Variety, the festival’s organisers will announce new dates for the 2021 edition this month, after last year’s event was called off following a series of postponements. According to the report, the organisers have confirmed their resolve to host a physical event in 2021, after the cancellation of Cannes in 2020 dealt a body blow to the international release circuit. If the festival does move from May, July appears the most likely timeslot: later in the year would precipitate a clash with major festivals such as Venice and Toronto, which normally take place in the last week of August or the first week in September; while space in Cannes in June is already taken by the Cannes Lions advertising festival, which is due to go ahead as planned. Variety suggests that the Cannes hotel organisation, the Syndicat des Hotels de Cannes et du Bassin Cannois, has been already told the festival will move to July – normally peak tourist season, but currently badly hit by the pandemic travel restrictions. A local hotelier is quoted as saying: “The dates we’ve agreed on are between July 5-25. So, the festival could start roughly around July 5, or a few days later.” According to an interview in French magazine Les Inrockuptibles, Cannes general delegate Thierry Fremaux has also raised the possibility of extending the festival’s length due to the likelihood of a backlog of high-quality films delayed by the pandemic. After the festival was called off in 2020, Fremaux presented a selection of over 50 films, including Wes Anderson’s as-yet-unreleased The French Dispatch, Pixar animation Soul, which premiered on streaming platform Disney+ in December, and Lovers Rock and Mangrove from Steve McQueen’s Small Axe anthology for the BBC.\n",
      "\n",
      "Cannes film festival 2021 OTHERS\n",
      "Cannes film festival OTHERS\n",
      "\n",
      "46\n",
      "\n",
      "A Ghost Waits review – haunting, heartwarming romcom\n",
      "\n",
      "Chock full of delightful narrative surprises, imaginative genre tweaks, and warming performances from its two leads, this low-budget romcom-horror story is worth seeking out. Director Adam Stovall, who co-wrote the script with the film’s star MacLeod Andrews, makes an impressive feature debut with an obviously teensy budget. It’s smartly deployed to cover essentially one set, some theatrical makeup and kit for some fetching black-and-white cinematography that simultaneously recalls vintage-era spooky movies of the 30s as well as too-cool-for-school early Jim Jarmusch films such as Stranger Than Paradise. Andrews’ protagonist Jack is a handyman who works for a property management company. His job is to check over houses for damage and do some light cleaning after tenants move out. However, it looks as if the former residents of an ordinary looking, two-storey suburban house left in a hurry, leaving all their possessions behind; Jack’s boss wants him to find out why so many previous clients similarly skipped out in a rush. Turns out it’s because the place is haunted by Muriel (Natalie Walker), a “spectral agent”, as she insists on being called, who has felt a particular sense of ownership over the building for many years. At first, Jack doesn’t even notice the doors opening by themselves or the lights turning on, but eventually Muriel gets his attention and makes herself visible; the two discover a spiritual affinity of sorts, that grows into a friendship and more. Like Tim Burton’s Beetlejuice, the script’s world-building posits a kind of afterlife bureaucracy in charge of hauntings, albeit one that seems to have gone through a very 21st-century style rebranding that has banished use of the word “ghost”. Muriel is a respected worker, but her boss, officious desk ghoul Ms Henry (Amanda Miller), is determined to undermine her and puts another co-worker (Sydney Vollmer) on the case as well. All of this ensures the film is not in the least bit scary, and clears room emotionally for a conclusion that’s as weird as it is apt and genuinely moving. Choice musical cuts from Honeyhoney, the Bengsons and Wussy further enhance the film’s insouciant street cred. • A Ghost Waits is released on the Arrow player in the UK, US and Canada on 1 February.\n",
      "\n",
      "A Ghost Waits FILM\n",
      "Ghost Waits FILM\n",
      "\n",
      "48\n",
      "\n",
      "Disney removes 'negative depictions of native peoples' from Jungle Cruise ride\n",
      "\n",
      "Disney is to overhaul its Jungle Cruise theme park attraction to remove what it describes as “negative depictions of native peoples” and to “reflect and value the diversity of the world around us”. The changes were outlined in a blogpost on its Disney Parks website, which included concept art for the redesigned attraction, a simulated riverboat ride originally developed for Disneyland when it opened in California in 1955. It has since been replicated in Disney theme parks in Florida, Tokyo and Hong Kong. In a statement quoted by USA Today, Disney added that its designers “are addressing negative depictions of native people while adding a humorous storyline … this group of adventurers [will] be diverse – in background and fields of interest”. Partly inspired by the 1951 film The African Queen, Jungle Cruise has long been a target of criticism for its inclusion of caricatures of indigenous people as well as a character, Trader Sam, who offers “heads” for sale. A post by design group Thinkwell calls elements of the attraction “horrifyingly racist”. Disney’s redesign of the Jungle Cruise follows its decision, announced in June 2020, to rework its Splash Mountain attraction. Originally inspired by the now repudiated 1946 film Song of the South, Splash Mountain is being modelled on its 2009 animation, The Princess and the Frog, the first to contain an African American princess. A film version of Jungle Cruise, starring Dwayne Johnson and Emily Blunt, has had its release delayed until July 2021.\n",
      "\n",
      "Disney FILM-CREW\n",
      "Jungle Cruise ride OTHERS\n",
      "\n",
      "50\n",
      "\n",
      "Cannes film festival officially delayed from May until July\n",
      "\n",
      "Cannes 2021 just got hotter. The annual film festival, which prides itself on launching the premieres – and careers – of some of the world’s top directors, will now take place at the height of summer, following concerns over the Covid pandemic. The festival had been scheduled to take place from 11-22 May; now it will run from 6-17 July. “As announced last autumn, the Festival de Cannes reserved the right to change its dates depending on how the global health situation developed,” explained a press release on Wednesday. Variety had reported last week that July was the most likely choice, with organisers extremely keen to host a physical edition of the festival after last year’s was called off following a series of postponements. Holding the event in July would mean that Cannes retains more than a month’s head start on the autumn festivals: Venice, Telluride and Toronto, which begin in late August. The Cannes Lions advertising festival is scheduled to take place as planned in the city’s Palais des Festivals in June. Local hoteliers were reported to be positive about the change as their hopes of a normal tourist season this year rapidly diminished. The event usually attracts some 200,000 visitors to the Riviera hotspot, generating an estimated 200m euros’ (£176m) worth of economic benefits for the area. Cannes general delegate Thierry Frémaux had mooted the idea of extending the festival’s length due to the likelihood of a backlog of high-quality films delayed by the pandemic; this appears to have ditched. After the festival was cancelled in 2020, Frémaux presented a selection of more than 50 films, including Wes Anderson’s as-yet-unreleased The French Dispatch, Pixar animation Soul, which premiered on streaming platform Disney+ in December, and Lovers Rock and Mangrove from Steve McQueen’s Small Axe anthology for the BBC. Premieres at the 2019 edition included Parasite, Once Upon a Time in Hollywood, Pain and Glory, Sorry We Missed You and Portrait of a Lady on Fire. The Sundance film festival begins later this week in a wholly virtual format. The Berlin film festival, which is normally in February, will now take place in two stages: digital only in March and physical in June.\n",
      "\n",
      "Cannes 2021 OTHERS\n",
      "Cannes film festival OTHERS\n",
      "\n",
      "59\n",
      "\n",
      "Palmer review – Justin Timberlake dominates modest family drama\n",
      "\n",
      "Former American football star Palmer (Justin Timberlake) has just been released from a 12-year stint in prison. It’s a shock, then, when he ends up having to care for a bullied young boy (Ryder Allen) in this modest family drama. Allen is a little cutesy as Sam, who is obsessed with fairies, dolls and dresses. Still, the film’s treatment of a gender-nonconforming character is clear-eyed. Timberlake can certainly act (see his turn in The Social Network), but the role of hardened, monosyllabic Palmer isn’t a neat fit. The showy singer turned actor struggles to modulate his natural charisma, a flirtatious, extroverted energy repeatedly leaking out where it should be muffled. • On Apple TV\n",
      "\n",
      "Palmer FILM\n",
      "Palmer review FILM\n",
      "\n",
      "60\n",
      "\n",
      "Rival GameStop movies being rushed into production\n",
      "\n",
      "The GameStop content race is on, even as the Reddit-fueled market rebellion against billionaire hedge funds continues to play out in real time. Netflix is reportedly in talks to ink a film adaptation of the social media David v Goliath saga, in which a small army of online investors upended Wall Street by driving up the prices of shares in the ailing video game chain and other shorted companies, with Mark Boal (Zero Dark Thirty, The Hurt Locker) set to write and To All the Boys I’ve Loved Before’s Noah Centineo attached to star. The as-yet-untitled project would be the second adaptation of the merely two-weeks-old GameStop saga already in development, after MGM acquired rights in a bidding war last week to the book proposal The Antisocial Network by Ben Mezrich, the author of The Accidental Billionaires, which served as source material for The Social Network. That adaptation is set to be produced by Cameron and Tyler Winklevoss, both played by Armie Hammer in David Fincher’s drama. An auction for the book itself will begin this month. According to Deadline, which broke the news, sources claim the Netflix project would use the recent market frenzy, in which a motley crew of Reddit users and amateur investors targeted billionaire hedge funds’ short-selling bets and sent GameStop stocks surging 135% on a single day, to explore the broader cultural shifts, for good and ill, as social media has leveled the playing field and overruled former gatekeepers. The film will reportedly cover the GameStop saga as well as the proliferation of misinformation on social media and intentionally disseminated disinformation on election fraud, which propelled the pro-Trump assault on the US Capitol earlier this month. This is not the first time Boal has incorporated real-time developments into a fast-track screenplay; following the news that US Navy Seals had killed Osama bin Laden in a 2011 raid in Pakistan, Boal and his directing partner, Kathryn Bigelow, quickly adapted a long-gestating project on the hunt for the al-Qaida leader into Zero Dark Thirty, a thriller on controversial US intelligence techniques and the successful raid.\n",
      "\n",
      "GameStop OTHERS\n",
      "Rival GameStop movies FILM\n",
      "\n",
      "76\n",
      "\n",
      "From the archive: Kingsley Amis and his love of horror films, July 1968\n",
      "\n",
      "The novelist Kingsley Amis wrote about being a horror film addict for the Observer Magazine of 7 July 1968 (‘Terror in the Cinema’). This is surprising because Amis had an extreme fear of the dark and of being alone. Of course, this being Amis, he objected to the popular term. ‘Terror film would be a better label,’ he argued, because ‘they are not symptoms of the sickness of our society’. Amis was an anti-intellectual when it came to genre films – ‘eggheads out!’ – preferring to simply enjoy the ‘cavortings both abominable and harmless’. Indeed, when he wondered what the appeal of the horror film was, he wrote: ‘Like Mark Twain on a dissimilar occasion, I have an answer to that: I don’t know.’ He argued that ‘The adult Western, like Bad Day at Black Rock, demonstrating its seriousness by short-changing us on action, has not made its mark.’ That may have been true, but it certainly wasn’t true of the John Sturges noir classic. ‘The psychological thriller, under Hitchcock, has done better,’ Amis said, ‘though it only really clicked when it abandoned the supposedly deep probing of Spellbound for the fairly straight and very enthusiastic Grand Guignol of Psycho.’ He admired the US contribution to ‘the great horror revival’, especially that of Vincent Price ‘whether receiving or dealing out assorted gory treatments’. Difficult also to disagree with his assessment of ‘one of the best horror episodes of all’ – the ventriloquist’s-dummy sequence in 1945’s Dead of Night. Amis had an amusingly hard time suspending his disbelief in The Fly: ‘Here, the hastiest of mumbo-jumbo was run through with the palpable design of proceeding to the disagreeable activities and physical appearance of a fly with a chap’s head and a chap with a fly’s head… Even science-fiction ought to have balked at the idea of giving both these characters some kind of human intelligence.’\n",
      "\n",
      "Kingsley Amis OTHERS\n",
      "Kingsley Amis FILM-CREW\n",
      "\n",
      "114\n",
      "\n",
      "Woody Allen denies claims in Allen v Farrow HBO documentary \n",
      "\n",
      "Woody Allen has rebutted renewed allegations, in the HBO documentary Allen v Farrow, that he sexually assaulted his daughter Dylan in 1992, calling the series “a hatchet job riddled with falsehoods”. In a statement to the Hollywood Reporter, Allen and his wife, Soon-Yi Previn, said that film-makers Amy Ziering and Kirby Dick had “spent years surreptitiously collaborating with the Farrows and their enablers to put together a hatchet job riddled with falsehoods”. They added: “As has been known for decades, these allegations are categorically false. Multiple agencies investigated them at the time and found that, whatever Dylan Farrow may have been led to believe, absolutely no abuse had ever taken place.” In a TV interview in 2018, Dylan Farrow denied she had been “brainwashed” or “coached” into making allegations against Allen. Allen v Farrow, which aired its first of four episodes on Sunday on HBO in the US, is described by Ziering and Dick as an investigation into the allegations, which emerged during the custody battle after Allen’s separation from Mia Farrow in 1992. Ziering also denied their film was “a collaboration … with [Dylan Farrow] or the family”. There has been no response so far from the Farrows regarding the claims made by Allen and Previn about the documentary. Allen has consistently denied any allegations of sexual abuse against Dylan Farrow, which were investigated in 1992-93 by Connecticut state police, the Child Sexual Abuse Clinic of Yale New Haven Hospital, and the New York Department of Social Services; none concluded that sexual assault had taken place. Mia Farrow and her son Ronan appear in Allen v Farrow, while Allen and Previn declined to participate. The statement says Allen and Previn “were approached less than two months ago and given only a matter of days ‘to respond’. Of course, they declined to do so.” Dylan’s brother Moses, who has defended Allen from the allegations, also reportedly declined to appear in the film. The Guardian spoke to the documentary’s lead investigator Amy Herdy who claims to have reached out to Allen’s team back in June 2018 but “got crickets back”. She added: “I know that they got my requests because I had an assistant on the phone” who said they were getting her emails. Ziering and Dick have previously worked together on a string of hard-hitting documentaries about sexual abuse, including the Oscar-nominated The Invisible War, which focused on rape in the US military and The Hunting Ground, about sex assaults on university campuses.\n",
      "\n",
      "Woody Allen OTHERS\n",
      "Woody Allen FILM-CREW\n",
      "\n",
      "125\n",
      "\n",
      "Paramount to launch streaming service for new and old films\n",
      "\n",
      "Paramount has become the latest studio to unveil plans for a streaming service it hopes will help maximise profits on films whose release has been affected by the pandemic. Paramount Plus, which launches on 4 March, will feature archive content as well as carrying new movies 30 days after theatrical release – or 45 for tentpole titles. These include oft-postponed releases such as Top Gun: Maverick (due in cinemas on 2 July), A Quiet Place II (17 September) and Mission: Impossible 7 (19 November). “Audiences are changing in their habits and we want to make sure that these films are available when they’re fresh after a full theatrical run,” Paramount Pictures CEO Jim Gianopulos told Variety on Wednesday. Mission: Impossible 7 wrapped filming last week after a long-running shoot involving multiple restarts in a wide variety of locations. Post-production is now under way in London ahead of the proposed release over the Thanksgiving weekend holiday in the US. The move is another blow for cinema owners seeking to shore up trade post-lockdown. Disney and Warner Bros have already launched popular streaming services either in tandem with a cinematic release or – particularly in the US, where most venues have been closed for almost a year – as standalone platforms. Universal recently struck a deal with key US chains that would allow them to stream new titles after only 17 days in cinemas. Paramount also announced TV series based on hit movies such as The Italian Job, Love Story, Flashdance and Fatal Attraction.\n",
      "\n",
      "Paramount FILM-CREW\n",
      "Paramount OTHERS\n",
      "\n",
      "128\n",
      "\n",
      "Advice on fasting is just slowing down | Brief letters\n",
      "\n",
      "I am not surprised that students expressed some doubts about replacing exams with teacher assessments (‘I’d 100% prefer to sit exams’: pupils on teacher-assessed grades, 25 February). When I was at school in 1964, my headteacher asked me if the rejections of my applications to study medicine were complete yet. I qualified at UCH London in 1970. Dr Colin Morison Canon Pyon, Hereford • The Common Sense Group of Conservative MPs presumably chose its name through careful study of the Marxist philosopher Antonio Gramsci’s works. “Common sense is a chaotic aggregate of disparate conceptions, and one can find there anything that one likes.” Peter Brooker West Wickham, Kent • Gwyneth Paltrow recommends “fasting until 11am every day” as part of a diet to combat long Covid (NHS warns against Gwyneth Paltrow’s ‘kombucha and kimchi’ Covid advice, 24 February). I regularly eat breakfast well after 11am these days since I see little point in getting out of bed before that time. Does this count? Tony Purcell Sheffield • Bob Marley and the Wailers’ 1975 Live! album, arguably the second-best live album of all time after The Band’s The Last Waltz, appears to be missing from your list (From Daft Punk and Beyoncé to the Band: 10 of the best ever live albums, 26 February). Surely a mistake. Toby Wood Peterborough, Cambridgeshire • Never mind the first snowdrop or cuckoo (Letters, 16 February) – we’ve got washing on the line in West Yorkshire. Beat that. Dr Mark Wilcox Holmfirth, West Yorkshire\n",
      "\n",
      "None OTHERS\n",
      "None Others\n",
      "\n",
      "138\n",
      "\n",
      "Rishi Sunak extends insurance scheme for film and TV production\n",
      "\n",
      "The government has extended its £500m insurance scheme protecting film and TV productions in the UK against the cost of Covid shutdowns until the end of the year. Last year, more than £2.8bn was spent on making Hollywood blockbusters and prestige dramas in the UK, from Line of Duty, War of the Worlds and The Witcher to Jurassic World: Dominion, Mission: Impossible 7, Batman and the third instalment of the Fantastic Beasts franchise. The scheme, which was due to end in April, has so far supported more than 200 productions to get back up and running, saving an estimated 24,000 jobs since being launched in October. Despite the support, the total amount spent on film and high-end TV production fell by a fifth last year, as all productions across the UK were forced to close in the early months of the pandemic. However, the introduction of the scheme and industry-wide move to Covid-safe sets fuelled a £1.2bn spending spree in the final quarter of last year, the second highest ever quarterly spend on record, as broadcasters, Hollywood studios and streamers rushed to plug the pandemic gap in fresh content that viewers were facing.\n",
      "\n",
      "Rishi Sunak OTHERS\n",
      "None OTHERS\n",
      "\n",
      "151\n",
      "\n",
      "Time's Up criticises HFPA over Golden Globes diversity plan\n",
      "\n",
      "A plan launched by the Hollywood Foreign Press Association to improve diversity in its membership and bolster the credibility of its Golden Globes awards has been met with scepticism by Time’s Up, one of the film industry’s leading activist organisations. The HFPA released a statement on social media on Sunday announcing “transformational change”, in the wake of stinging criticism before and during the 2021 edition of the Golden Globes a week ago. The organisation pledged to appoint an “expert in organisational diversity, equity and inclusion”, to add “Black and other underrepresented professionals to [the] organisation”, and to improve “transparency” over its voting and membership processes. However, Time’s Up responded immediately, accusing the HFPA of having dragged their feet “for decades”, and questioning the organisation’s commitment. In a statement on social media, Time’s Up said: “On behalf of the many artists who look to us to hold the HFPA’s feet to the fire on the racism, disrespect, misogyny, and alleged corrupt financial dealings of the Golden Globes, we need to see specific details, timetables for change, and firm commitments. The right words are not enough.” According to Deadline, Time’s Up has applied pressure on NBC, the source of the HFPA’s main revenue stream via lucrative payments for broadcasting the Golden Globes, to ensure significant changes take place.\n",
      "\n",
      "Hollywood Foreign Press Association OTHERS\n",
      "Time's Up OTHERS\n",
      "\n"
     ]
    }
   ],
   "source": [
    "see_conflicts(anshul_wei_165, anshul_165, wei_165)"
   ]
  },
  {
   "cell_type": "code",
   "execution_count": 14,
   "id": "3bf56504-d35f-4088-9524-80708c3a2845",
   "metadata": {},
   "outputs": [],
   "source": [
    "anshul_165.iloc[37]['central_entity'] = 'Cannes film festival'\n",
    "anshul_165.iloc[50]['central_entity'] = 'Cannes film festival'\n",
    "anshul_165.iloc[151]['central_entity'] = \"Time's Up\""
   ]
  },
  {
   "cell_type": "code",
   "execution_count": 15,
   "id": "d500ff9f-c715-4e6f-805f-5d3a81a734ef",
   "metadata": {
    "tags": []
   },
   "outputs": [
    {
     "name": "stdout",
     "output_type": "stream",
     "text": [
      "13\n",
      "\n",
      "Film industry celebrities boycott crisis-hit Golden Globes \n",
      "\n",
      "Film industry pressure on the Hollywood Foreign Press Association (HFPA), the body that organises the Golden Globe awards, has increased after more than 100 public relations firms sent a letter telling the organisation they had withdrawn all their celebrity clients from activities with the HFPA until it made “profound and lasting change” to correct what it described as the HFPA’s “longstanding exclusionary ethos … discriminatory behavior [and] ethical impropriety”. According to Variety, the letter, signed by high-profile PR outfits including DDA, Premier, 42West and Rogers &amp; Cowan/PMK, was delivered to the HFPA on Monday, following continuing criticism of the crisis-plagued organisation. The letter reads: “We cannot advocate for our clients to participate in HFPA events or interviews as we await your explicit plans and timeline for transformational change.” “Anything less than transparent, meaningful change that respects and honors the diversity and dignity of our clients, their colleagues and our global audience will result in immediate and irreparable damage to the relationship between our agencies, our clients and the Hollywood Foreign Press Association.” The Golden Globes TV broadcast is the HFPA’s most high-profile and lucrative event, and an industry boycott would be devastating. The HFPA’s troubles were sparked by a report in the LA Times shortly before the most recent Golden Globe awards show, in which the HFPA was accused of a lack of diversity in its membership as well as “ethical lapses” in the way it conducted its business. The organisation’s response, in which it said it would add “Black and other underrepresented professionals to [the] organisation” and improve “transparency” over its voting and membership processes, was deemed inadequate by high-profile film industry campaign group Time’s Up. The HFPA responded to the publicists’ letter with a statement in which it acknowledged it “should have done more, and sooner”, and said it would ensure that “at least 13 per cent of the membership be Black journalists” by the end of the year.\n",
      "\n",
      "Golden Globe awards OTHERS\n",
      "Film industry OTHERS\n",
      "\n",
      "15\n",
      "\n",
      "Slaxx review – killer jeans horror-satire\n",
      "\n",
      "The spirit of Roger Corman’s original Little Shop of Horrors lives again in this entirely ridiculous but often amusing and sharp horror-satire from Canadian film-maker Elza Kephart, set in an unbearably cool clothes shop, in which the sales assistants cruise around talking to each other with mic-headsets, but hardly deign to communicate with the customers. Romaine Denis plays Libby, a starry-eyed young woman who is thrilled to have got a job at this store, awed by its visionary CEO and by the company’s commitment to non-exploitative practices and its ethical attitude to the developing-world communities where the clothes are made and where the cotton is grown. But of course it is all nonsense. The company cuts costs with sweatshop contractors in south Asia, and the super-cool jeans that it is bringing in for its new line are in fact haunted by the vengeful spirits of those workers in India who have been injured and killed. And so, for the special evening in which these new garments are to be unveiled at the store to an elite of hipsters and Instagram influencers, the jeans themselves run amok in a bloody orgy of revenge against the first-world fashionistas. It is all very silly, and some of the script and acting are a bit broad (though perfectly consistent with the overall style). The scenes where the jeans come to life like malign reptiles and even start dancing on the shop floor are good; some videos over the closing credits cheerfully reveal the tech wizardry that created these effects. An entertaining skewering of the hidden global politics in retail trendiness. • Slaxx is released on 18 March on Shudder.\n",
      "\n",
      "Slaxx FILM\n",
      "The Legend of the Stardust Brothers FILM\n",
      "\n",
      "40\n",
      "\n",
      "Bafta diversity scheme participant says casting director made racist comments\n",
      "\n",
      "A scheme set up by Bafta with the aim of improving diversity in the film and TV industry has come under fire from one of its former participants, who said she had experienced racist comments and a lack of promised disability support. India Eva Rae, who joined Bafta’s Elevate programme in 2019, told the BBC that a casting director told her she was an “exotic talent”, and that they “can’t understand the English coming out your mouth”. Rae also said that she had been told not to report the incident by a “mentor” on the scheme: “This mentor told me and other members of the group that we will never work again if we speak up.” Bafta CEO Amanda Berry said in response that the organisation “was aware that [Rae] had had a negative experience with a casting director, as they mentioned it in passing … but we are not aware that this happened as part of the Elevate programme.” The BBC also report that Bafta said it had not received any complaints about either incident, but that if it had, they would have been taken extremely seriously. Rae also said she had difficulties accessing disability support. Rae was selected in 2019 for Bafta’s Elevate programme after featuring in the Channel 4 anthology series On the Edge. Elevate was set up in 2017 and is described by Bafta as “a new bespoke annual programme that aims to elevate individuals from under-represented groups to the next stage of their career”. It was one of a set of initiatives introduced by Bafta to increase diversity in the film and TV industry, alongside changes to eligibility for its awards and membership process. Bafta recently joined the the BFI to relaunch a programme to combat bullying, harassment and racism in the screen industries. Berry added: “It is a matter of great sadness and regret for me that anyone would feel this way, and our door remains completely open to find a solution, and to ensure that every participant benefits from the scheme.” “I know that other participants have found this to be a truly fantastic opportunity.” In a statement to Deadline, Bafta said: “Bafta condemns bullying, harassment, racism and discrimination of any kind and we take allegations of this nature incredibly seriously and will investigate urgently. We go to great lengths to ensure our programmes are as inclusive and accessible as possible for everyone who takes part, whatever their specific support needs are, and have responded to and want to resolve the participant’s requests in this area.”\n",
      "\n",
      "India Eva Rae PERFORMER\n",
      "Bafta diversity scheme participant OTHERS\n",
      "\n",
      "51\n",
      "\n",
      "Oscars poised to loosen no-Zoom policy for this year's ceremony\n",
      "\n",
      "Producers for this year’s Oscars ceremony are said to be considering relaxing their policy of mandatory in-person attendance for this year’s nominees. According to a story in the Hollywood Reporter, the Academy has invited all nominees to participate in a Tuesday morning Zoom “conversation with show producers” Steven Soderbergh, Stacey Sher and Jesse Collins. This will include “updates about the show” as well as details on options should they need to participate remotely. Earlier this month, producers had said there would “not be an option to Zoom in for the show” and that nominees should turn up instead at Los Angeles’ Union Station, where this year’s ceremony will primarily take place. While most of this year’s nominees are based in the US, concern had been raised over the finances, logistics and safety of those based elsewhere flying to Los Angeles for the ceremony on 25 April. England has currently banned non-essential international travel until mid-May, although work exemptions are in place as evidenced by performers such as Harry Styles attending the Grammy awards earlier this month. Representatives of the five international feature films – submitted by Denmark, Hong Kong, Romania, Tunisia and Bosnia – could also face hurdles getting to Los Angeles. Speaking to the Guardian, Alexander Nanau, the director of Romanian film Collective, which is nominated for both best documentary and best international feature film, said: “We certainly hope to be there – provided it’s safe and logistics allow – but we trust the Academy will find a solution to accommodate nominees who face difficult travel restrictions.” Visitors to California are currently expected to quarantine for 10 days, incurring considerable expense and inconvenience, while the re-entry requirements for travellers back to their own countries vary widely. In some countries, visa offices remain closed.\n",
      "\n",
      "Oscars OTHERS\n",
      "Oscars ceremony OTHERS\n",
      "\n",
      "53\n",
      "\n",
      "Tom Hanks’s son criticized for using ‘racist’ font on merchandise collection\n",
      "\n",
      "Chet Hanks, son of the Hollywood actor Tom Hanks, has been criticized for using a “racist” font on his new collection of merchandise which is also controversially called White Boy Summer. His black and white range of clothes, which include hoodies, T-shirts, shorts, tank tops, leggings, caps and bike shorts, has been called out online for its use of a Gothic-style font that is close to the one used by white nationalists. It’s also similar to the Fraktur fonts, which were used in Nazi Germany most prominently on the cover of Hitler’s Mein Kampf book. “Hmm unfortunately the merch looks aggressively racist,” wrote one commentator on Twitter, while another wrote: “Jesus. When I think of typefaces white people should avoid, anything remotely calligraphic/blackletter looking pops immediately to mind, especially if it’s going to include the word ‘White’.” While on Hanks’s official Instagram a user said: “Proud Boys are gonna buy these tf up.” The Proud Boys are a far-right US group and in September fashion line Fred Perry withdrew their polo shirts which had been adopted by them. Hanks, who raps under the moniker Chet Haze and has acted in the TV shows Shameless and Empire, came up with the term “White Boy Summer” on Friday – a play on the Megan Thee Stallion song from 2019 Hot Girl Summer. “I just got this feeling man that this summer … it’s about to be a white boy summer,” he said. “Take it how you want, I’m not talking about Trump, Nascar-type white. I’m talking about me, (rappers) Jon B. Jack Harlow-type white boys, you know what I mean? Let me know if you guys can vibe with that, and get ready. ‘Cause I am.’” In a video posted a few days later, he clarified: “You know what’s not White Boy Summer … is having any ill will or prejudice towards anybody from a different background, race, walk of life than you.” On Tuesday Hanks announced he was also launching a range of Black Queen Summer merchandise, using the same font. “I want to see some white boys and some black queens wearing each other’s shirts,” he said in a video introducing them. Hanks, who previously went viral in January of 2020 for using a Jamaican accent at the Golden Globes when his father won the Cecil B DeMille Award, is launching an online acting class The Actors Advantage on Monday. The Guardian approached him for comment.\n",
      "\n",
      "Chet Hanks PERFORMER\n",
      "Chet Hanks OTHERS\n",
      "\n",
      "79\n",
      "\n",
      "Peter Bradshaw’s Baftas 2021 predictions: who will win – and who should\n",
      "\n",
      "Best film Will win: The Father Should win: Nomadland Shoulda been a contender: Minari Outstanding British film Will win: The Dig Should win: Rocks Shoulda been a contender: Days of the Bagnold Summer Best director Will win: Chloé Zhao for Nomadland Should win: Jasmila Žbanić for Quo Vadis, Aida? Shoulda been a contender: Christopher Nolan for Tenet Outstanding debut by a British writer, director or producer Will win: Rocks – Theresa Ikoko, Claire Wilson (writers) Should win: Limbo – Ben Sharrock (writer/director), Irune Gurtubai (producer) Shoulda been a contender: Lynn + Lucy - Fyzal Boulifa (director) Best film not in the English language Will win: Another Round Should win: Quo Vadis, Aida? Shoulda been a contender: The Good Girls Best documentary Will win: My Octopus Teacher Should win: Collective Shoulda been a contender: Mother Best animated film Will win: Soul Should win: Soul Shoulda been a contender: Kill It and Leave This Town Best original screenplay Will win: Aaron Sorkin for The Trial of the Chicago 7 Should win: Emerald Fennell for Promising Young Woman Shoulda been a contender: Eliza Hittman for Never Rarely Sometimes Always Best adapted screenplay Will win: Moira Buffini for The Dig Should win: Chloé Zhao for Nomadland Shoulda been a contender: Charlie Kaufman for I’m Thinking of Ending Things Best actor Will win: Anthony Hopkins for The Father Should win: Anthony Hopkins for The Father Shoulda been a contender: Robert Pattinson for The Devil All the Time Best actress Will win: Vanessa Kirby for Pieces of a Woman Should win: Frances McDormand for Nomadland Shoulda been a contender: Rosamund Pike for I Care a Lot Best supporting actor Will win: Daniel Kaluuya for Judas and the Black Messiah Should win: Daniel Kaluuya for Judas and the Black Messiah Shoulda been a contender: Jérémie Renier for Slalom Best supporting actress Will win: Maria Bakalova for Borat Subsequent Moviefilm Should win: Youn Yuh-jung for Minari Shoulda been a contender: Jennifer Ehle for Saint Maud Best music Will win: Soul Should win: Soul Shoulda been a contender: I’m Thinking of Ending Things Best cinematography Will win: Mank Should win: Nomadland Shoulda been a contender: Rebecca\n",
      "\n",
      "Baftas 2021 OTHERS\n",
      "Peter Bradshaw’s Baftas 2021 predictions OTHERS\n",
      "\n",
      "91\n",
      "\n",
      "Belarus culture workers need our support after detention of Tatsiana Hatsura-Yavorskaya | Mark Cousins\n",
      "\n",
      "The arrest in Belarus of the director of Minsk’s Watch Docs festival of nonfiction cinema is a reminder of how much culture workers matter in authoritarian states and at times of information deficit. On 5 April Tatsiana Hatsura-Yavorskaya’s home was searched by security forces, phones and computers were confiscated, and she was arrested. The ostensible reason was that she had co-organised (with Natalia Trenina and Yulya Semenchenko, who were also arrested but since released) an exhibition called The Machine Is Breathing, I Am Not about Belarus health professionals at the time of Covid-19. Following the arrests the online exhibition closed. On 8 April, a court fined Hatsura-Yavorskaya 700 Belarusian rubles for “protesting against police”. Another criminal case is now being prepared, accusing her of “raising money for protests”. In 2019, Hatsura-Yavorskaya visited the Belfast film festival at the invitation of Irish writer Laurence McKeown. The result was an exchange of films between Belarus, Britain and Ireland. As chair of the Belfast film festival and its sister organisation Docs Ireland, I went to Hatsura-Yavorskaya’s Watch Docs festival, and wrote about it for the Guardian. I was deeply impressed by how Tatsiana, a humanitarian activist and mother of four, steered her festival through the storm of KGB intervention, censorship and outright banning of films. Audiences were large and hungry for stories and perspectives outwith those of the state media. We at the Belfast film festival and Docs Ireland call on the authorities in Belarus to release Hatsura-Yavorskaya. And we ask other documentary film festivals, film workers and humanitarians to do the same. Tag @BelfastFilmFes1 on Twitter and we will retweet to the relevant authorities. Nonfiction cinema is our lingua franca. Those who speak it to governments should be defended.\n",
      "\n",
      "Tatsiana Hatsura-Yavorskaya OTHERS\n",
      "Belarus culture workers OTHERS\n",
      "\n",
      "93\n",
      "\n",
      "Oscars in talks to use BFI Southbank for Academy Awards show\n",
      "\n",
      "The Academy of Motion Picture Arts and Sciences (Ampas) is in talks with the British Film Institute (BFI) to use the latter’s cinema complex, BFI Southbank, as part of the forthcoming Oscars ceremony, according to a report in Variety. Citing “multiple sources”, Variety says that Ampas is looking to use BFI Southbank, in London’s Waterloo, as one of the international “hubs” for its awards show, which is due to take place on Sunday 25 April in Los Angeles. Ampas was forced to change tack from its original plans for a “no Zoom” show after complaints that non-US based nominees would not be able to attend due to Covid regulations, and instead decided to set up a series of overseas event locations to allow participation for those unable to travel. France will have a “hub” at a studio in Paris. If the London event goes ahead, it is likely to take place in the early hours of Monday 26 April, due to the time difference, and controls will be in place to ensure Covid compliance. These will include negative Covid tests, quarantine for non-UK participants, and a restriction on guest numbers. UK-based nominees include actors Carey Mulligan, Daniel Kaluuya and Anthony Hopkins, and director Emerald Fennell. However, government regulations state that “attendees converging on and congregating in a site for a specific discrete performance or activity” are still banned, so any large scale indoor event may require special permission.\n",
      "\n",
      "The Academy of Motion Picture Arts and Sciences (Ampas) OTHERS\n",
      "Oscars ceremony OTHERS\n",
      "\n",
      "106\n",
      "\n",
      "Star Wars: Darth Vader actor David Prowse’s items up for auction \n",
      "\n",
      "The lots up for auction include an iconic movie script (minus a crucial plot spoiler), a mask that has terrified generations of sci-fi fans and even a chunk of a beloved starship. More than 700 possessions of David Prowse, the Bristolian who played Darth Vader in the original Star Wars trilogy, are being sold off in his home city following his death aged 85 last year. Included is his The Empire Strikes Back script, which has key lines removed to keep Vader’s relationship with Luke Skywalker secret, a piece of the Millennium Falcon’s cockpit and a Vader mask Prowse is believed to have used for appearances at conventions and events. Appropriately, the collection will be sold on 4 May – a nod to the franchise’s famous line: “May the force be with you.” Auctioneer Andrew Stowe, of East Bristol Auctions, said: ‘‘When I was rummaging through the boxes from his house, every now and then I’d come across something special and it would send my brain racing. “In one box I’d find his Empire Strikes Back script, in another I found an actual piece of the Millennium Falcon, then a little deeper down I’d find a letter from Peter Cushing.” The Empire Strikes Back script is expected to sell for thousands. ‘‘My spine tingled when I first saw the script,” said Stowe. But the line revealing Vader and Luke’s relationship does not feature. Stowe said: “The reveal – perhaps the most recognised moment in cinema history – was kept a big secret from most of the cast. As Prowse’s lines would be over-dubbed by James Earl Jones he [Prowse] wasn’t privy to the secret, so instead, he was given alternate dialogue which is considerably less dramatic. But that in itself makes this a unique piece of history.’’ A percentage of proceeds from the auction will go to Alzheimer’s Research UK.\n",
      "\n",
      "David Prowse PERFORMER\n",
      "David Prowse’s items OTHERS\n",
      "\n",
      "112\n",
      "\n",
      "Golden Globes crisis continues as former president sends anti-BLM email\n",
      "\n",
      "Already under fire for its failings over membership diversity, the Hollywood Foreign Press Association (HFPA), the organisation behind the Golden Globes, has been forced to apologise after its former long-term president emailed a copy of an article to members that called Black Lives Matter a “racist hate group”. According to the LA Times, Phil Berk, who served eight terms as the HPFA president, ending in 2011, shared a copy of an article from rightwing website Frontpagemag.com, which described Black Lives Matter as a “racist … hate group” and claimed that the movement is carrying out the “race war” that Charles Manson aspired to start. In its statement, the HFPA said: “The views expressed in the article circulated by Mr Berk are those of the author of the article and do not – in any way shape or form – reflect the views and values of the HFPA. The HFPA condemns all forms of racism, discrimination and hate speech and finds such language and content unacceptable.” The LA Times reported that a number of HFPA members responded angrily to Berk’s email, with one writing “The vile rhetoric contained in this screed is simply unacceptable”, and another calling Berk “a thundering disgrace”. The crisis engulfing the HFPA began shortly before the Golden Globes award ceremony in January, when an LA Times report accused the organisation of a lack of diversity in its membership as well as “ethical lapses” in the way it conducted its business. The HFPA’s subsequent pledge to add “Black and other underrepresented professionals to [the] organisation” and improve “transparency” over its voting and membership processes, was deemed inadequate by high-profile film industry campaign group Time’s Up. In March a large group of influential Hollywood PR agencies said they would boycott the Golden Globes, the primary source of the HFPA’s income, unless the HFPA made “profound and lasting change”.\n",
      "\n",
      "Hollywood Foreign Press Association (HFPA) OTHERS\n",
      "Golden Globes crisis OTHERS\n",
      "\n",
      "118\n",
      "\n",
      "Golden Globes crisis deepens as former president expelled and advisers resign\n",
      "\n",
      "The crisis-plagued Hollywood Foreign Press Association (HFPA), the body that organises the Golden Globes, has expelled Philip Berk, its former president who sparked widespread outrage by sharing an anti-Black Lives Matter article that described the movement as a “racist hate group”. In a brief statement, the HFPA said: “Effective immediately, Phil Berk is no longer a member of the Hollywood Foreign Press Association.” The HFPA’s move follows outspoken criticism from NBC, the TV network that broadcasts and pays for the Golden Globes, which called for Berk’s expulsion. “NBC strongly condemns Phil Berk’s actions … [and] swift action on this front is an essential element for NBC to move forward with the HFPA and the Golden Globes.” Berk’s removal followed the controversy over his email, reported by the LA Times, in which he forwarded an article by a rightwing website. A number of HFPA members had responded angrily to Berk’s email, with one writing: “The vile rhetoric contained in this screed is simply unacceptable”, and another calling Berk “a thundering disgrace”. However, the HFPA was hit by further problems after it was reported that Dr Shaun Harper, its recently hired diversity and inclusion adviser, had resigned. Harper, the executive director of USC’s Race and Equity Center, had been hired as a consultant by the HFPA after criticism of the lack of diversity among the organisation’s membership. He reportedly resigned after a meeting with representatives of the Time’s Up campaign group, including director-producer Ava DuVernay and producer Shonda Rhimes. The Hollywood Reporter quoted Harper’s resignation letter, which said: “I no longer have confidence in our ability to collaboratively deliver the transformational change that the industry and the people in it whom I deeply respect are demanding of you.” Another of the HFPA’s recently hired consultants, crisis management firm Smith &amp; Company, which is run by celebrated “crisis guru” Judy Smith, has also reportedly departed from its advisory role. The crisis engulfing the HFPA began shortly before the Golden Globes award ceremony in January, when an LA Times report accused the organisation of a lack of diversity in its membership as well as “ethical lapses” in the way it conducted its business.\n",
      "\n",
      "Hollywood Foreign Press Association (HFPA) OTHERS\n",
      "Golden Globes crisis OTHERS\n",
      "\n",
      "121\n",
      "\n",
      "And the winner should be … Peter Bradshaw’s predictions for the 2021 Oscars\n",
      "\n",
      "Best picture Will win: Nomadland Should win: Nomadland Shoulda been a contender: Quo Vadis, Aida? Best director Will win: David Fincher for Mank Should win: Chloé Zhao for Nomadland Shoulda been a contender: Christopher Nolan for Tenet Best actor Will win: Anthony Hopkins for The Father Should win: Anthony Hopkins for The Father Shoulda been a contender: Lance Henriksen for Falling Best actress Will win: Vanessa Kirby for Pieces of a Woman Should win: Frances McDormand for Nomadland Shoulda been a contender: Rosamund Pike for I Care A Lot Best supporting actor Will win: Daniel Kaluuya for Judas and the Black Messiah Should win: Daniel Kaluuya for Judas and the Black Messiah Shoulda been a contender: Michael Stuhlbarg for Shirley Best supporting actress Will win: Amanda Seyfried for Mank Should win: Youn Yuh-jung for Minari Shoulda been a contender: Toni Collette for I’m Thinking of Ending Things Best animated feature Will win: Soul Should win: Soul Shoulda been a contender: Kill It and Leave This Town Best adapted screenplay Will win: Christopher Hampton and Florian Zeller for The Father Should win: Chloé Zhao for Nomadland Shoulda been a contender: Charlie Kaufman for I’m Thinking of Ending Things Best original screenplay Will win: Aaron Sorkin for The Trial of the Chicago 7 Should win: Emerald Fennell for Promising Young Woman Shoulda been a contender: Andy Siara for Palm Springs Best documentary Will win: Time Should win: Collective Shoulda been a contender: Mother Best international feature film Will win: Another Round Should win: Quo Vadis, Aida? Shoulda been a contender: Dear Comrades!\n",
      "\n",
      "2021 Oscars OTHERS\n",
      "Peter Bradshaw’s predictions OTHERS\n",
      "\n",
      "130\n",
      "\n",
      "Oscars ratings down 58% to new record low\n",
      "\n",
      "The Oscars telecast suffered another major dip in viewership this year, with early ratings suggesting a 58% drop. The ceremony, which saw on-the-road drama Nomadland pick up the top prize, was watched by 9.85 million Americans, down from 23.6 million in 2020, according to preliminary Nielsen numbers. That year, which was led by a historic win for Parasite, was already the least watched televised ceremony ever for the Academy. It was an unusual evening, heavily affected by the pandemic, with a more modest guest list and venue, with many nominees only appearing via video. It was co-produced by Steven Soderbergh, who decided to make some major and controversial changes with both structure and style. When asked about ratings earlier this month, he expressed indifference. “We’re worrying about things that we can control and that’s not on that list,” he told the Hollywood Reporter. “We’re just making something that we would want to see, that we would think is a good show, because if you’re doing anything other than that, you’re second guessing and you’re lost.” His production scored middling reviews from critics, with Vanity Fair’s Richard Lawson writing that it contained “more languor than pizzaz” and Variety’s Caroline Framke suggesting that “rearranging the metaphorical furniture isn’t the compelling twist that is going to bring them back”. Due to semi-shuttered cinemas, Nomadland, which went directly to Hulu as well as a handful of US screens, is set to be the lowest-grossing best picture winner for decades. A recent survey also showed that audiences were less familiar with the nominees than normal with just 35% of those asked having awareness of Nomadland, for instance. The night’s big acting awards were given to Frances McDormand, Daniel Kaluuya, Youn Yuh-jung and Anthony Hopkins, who wasn’t able to give a winner’s speech. The news follows on from similarly dramatic falls for other pandemic-era award shows. Last year’s Emmys were the lowest ever with a 12% drop, this year’s Golden Globes fell around 60% while the Grammys were down 53% year on year.\n",
      "\n",
      "Oscars OTHERS\n",
      "Oscars ceremony OTHERS\n",
      "\n",
      "138\n",
      "\n",
      "Mia Neal and Jamika Wilson become first black women to win hair and makeup Oscar\n",
      "\n",
      "Mia Neal and Jamika Wilson became the first black women to win for best hair and make-up at the Oscars, for their work on Netflix’s Ma Rainey’s Black Bottom. “I stand here, as Jamika and I break this glass ceiling, with so much excitement for the future,” said Neal in accepting the award, along with their fellow stylist Sergio Lopez-Rivera. Neal, the department head, and Wilson, Viola Davis’s personal hair stylist, won for their work on the film about one of the few openly lesbian, black performers in America in the 1920s. Neal, who designed Oprah Winfrey’s wigs for 2017’s The Immortal Life of Henrietta Lacks, created 100 wigs for Ma Rainey’s Black Bottom in less than three weeks, based on the fewer than 10 photographs that exist of the legendary “mother of blues”, according to Vogue. “I know that one day it won’t be unusual or groundbreaking, it will just be normal” for black women, trans women, and Latinas to be claiming Oscars, Neal said. The film’s costume designer, Ann Roth, 89, also made history as the oldest woman to win an Oscar, tying Agnés Varda and James Ivory for the oldest winners. While celebrating her work, the presenter Don Cheadle said Roth “reads the script and asks herself questions about the character like: ‘When she goes to bed, where are those clothes? Do they fall on the floor? Does she hang them up?’ From there, Ann builds the costumes which define the character.” Roth did not give a remote speech, and Cheadle accepted on the Academy’s behalf. Ma Rainey’s Black Bottom, directed by George C Wolfe, was nominated for five Academy Awards, including best actor for the late Chadwick Boseman.\n",
      "\n",
      "Mia Neal FILM-CREW\n",
      "Mia Neal and Jamika Wilson FILM-CREW\n",
      "\n",
      "145\n",
      "\n",
      "Beast Beast review – insultingly shallow take on gun violence\n",
      "\n",
      "Here’s another indie flick that mistakes handheld camera movements for emotional intimacy. Produced by Alec Baldwin, Danny Madden’s second feature has a host of characters and storylines that are just as empty and unfocused as the migraine-inducing cinematography. Revolving around of group of multi-ethnic Gen Z-ers in the American south, this message-heavy film tries hard to tackle urgent issues such as social media, familial conflicts and, above all, gun violence. The film only succeeds at peddling barely tolerable coming-of-age cliches. The kids in Beast Beast hail from all walks of life. There is Krista (Shirley Chen), a spunky Asian theatre kid who blooms on stage yet wilts at home in the presence of her neglectful parents. She is charmed by Nito (Jose Angeles), a new Latino student from a much rougher side of town with a knack for skateboarding tricks. Looming over their sweet rendezvous is the quietly unsettling presence of Adam (Will Madden), a white firearms “enthusiast” who is obsessed with making gun vlogs. He rarely leaves his parents’ home and prefers stewing over malicious online comments. As the first hour of the film lolls along, full of prickly yet mostly innocent adolescent incidents, but with a sense of malevolence lingering via a recurrent menacing musical interlude full of clanging noises. After all, the Chekhov gun is there and indeed, it unsurprisingly fires to bloody results in the third act. Without giving anything away, the film’s condemnation of gun violence is gratingly shallow, favouring melodramatic histrionics that produce iffy racial optics as brutality is repeatedly inflicted upon the non-white characters. Beast Beast also appears to have done zero research into how a community responds to these kind of tragedies or how the justice system even works. Clearly, the film cares more about checking off liberal talking points than lending its characters any real depth. Such simplistic posturing is, frankly, pretty insulting. • Beast Beast is released on 30 April on digital platforms.\n",
      "\n",
      "Beast Beast FILM\n",
      "Beast Beas FILM\n",
      "\n",
      "148\n",
      "\n",
      "Chadwick Boseman’s family defends Anthony Hopkins amid best actor Oscars backlash\n",
      "\n",
      "The family of Chadwick Boseman, the Black Panther star who had been widely expected to receive a posthumous best actor Oscar for his role in Ma Rainey’s Black Bottom, have come to the defence of the man who took the prize. The brother of the actor, who died last August of cancer aged 43, says the family had no hard feelings towards Anthony Hopkins. Speaking to TMZ, Derrick Boseman said his brother would have been the first to wish Hopkins the best following his Sunday night win. The late actor would have seen winning an Oscar as an achievement but never an “obsession” said Boseman, adding that he felt all the shortlisted actors were worthy of the award. The surprise result on Sunday night was compounded by the absence of Hopkins from the telecast and the switch in the running order. Rather than the traditional finish of the award of best picture, best actress and best actor concluded the ceremony, with many suspecting that the producers had anticipated a win for Boseman, which would have concluded the ceremony on a particular note. Instead, there was simply Hopkins’s abrupt and anti-climatic absence to finish the ceremony, its jarring nature compounded by the lack of a host. This year’s Oscars had what had been understood to be a strict “no Zoom” policy that meant nominees needed to either turn up in Los Angeles or in one of the “hubs” – including one at the BFI Southbank in London. Hopkins, who is 83, is currently in Wales and evidently didn’t fancy the trip. It had been thought that his The Father co-star, Olivia Colman, would be permitted to accept the award for him from the London hub. But this is now not believed to be the case, despite Colman having been in attendance, at least for the early part of proceedings, when she was nominated for best supporting actress for the film. Awards pundit Kyle Buchanan suggested earlier today that Hopkins had offered to be on call overnight on video but was refused by the Academy, who also stuck to their protocol of having a presenter accept non-posthumous awards (rather than a co-star) in the event of non-attendance. Hopkins, who posted a video from his late father’s grave earlier on Sunday, posted a video expressing thanks on Monday morning, saying he did not expect to win, and that he was “very grateful to the Academy”. “I want to pay tribute to Chadwick Boseman,” he added, “who was taken from us far too early.”\n",
      "\n",
      "Chadwick Boseman PERFORMER\n",
      "Chadwick Boseman’s family OTHERS\n",
      "\n",
      "150\n",
      "\n",
      "Disney unapologetic over Mulan credit thanking Chinese Communist party \n",
      "\n",
      "Disney has claimed it was not responsible for thanking the Chinese Communist party in the credits at the end of the film Mulan, saying the decision was taken by local contractors. In a letter to the Commons business select committee, the film company is unapologetic about its refusal to accept a request to give evidence in person to the committee. Disney also says it was required to comply with Chinese laws at all times. Disney has been widely criticised by British politicians for filming parts of Mulan in Xinjiang province where there are widespread claims, including by the British government, that human rights abuses are being carried out on the Uyghur people by the Chinese Communist party. The letter sent by Sean Bailey, the president of Walt Disney studios motion pictures, says: “Chinese regulations prohibit foreign producers from operating independently and require them to partner with a Chinese production company.” It explains Disney hired Beijing Shadow Times Culture, a private company it said had worked with , “to provide production-related services in China”. Those mentioned in the movie’s credits for thanks include the publicity department of CPC Xinjiang Uyghur Autonomous Region Committee and the police bureau in Turpan, an ancient Silk Road city in eastern Xinjiang that has a large Uyghur population. “It is standard practice across the film industry worldwide to acknowledge in a film’s credits the cooperation, approvals and assistance provided by various entities and Disney individuals over the course of a film’s production,” Bailey wrote. “In this case, the production company, Beijing Shadow Times, provided our production team with the list of acknowledgments to be included in the credits for Mulan. The Walt Disney Company has no separate, independent or ongoing relationship with government authorities in the Xinjiang autonomous province.” The filming in Xinjiang only lasted four days, the company added. The company filmed the bulk of Mulan in New Zealand, but for reasons of authenticityused 20 locations throughout China, including the Kumtag Desert in Xinjiang, home to an important passageway along the Silk Road. Disney said: “The decision to film in each of these locations was made by the film’s producers in the interest of authenticity, and was in no way dictated or influenced by state or local Chinese officials.” China has vehemently rejected claims of a genocide as a lie, although the foreign minister Nigel Adams this week said it was a step forward that China admits the detention camps exist.\n",
      "\n",
      "Disney FILM-CREW\n",
      "Disney OTHERS\n",
      "\n",
      "151\n",
      "\n",
      "Letter: Bertrand Tavernier obituary\n",
      "\n",
      "In 2013 Bertrand Tavernier was the main guest in Dublin at a symposium, John Ford Ireland, celebrating the film-maker. After giving a talk, Tavernier stayed on as a participant. Six years later I invited him to a symposium in London marking the 70th anniversary of Alfred Hitchcock’s return to Britain to make Under Capricorn. He accepted; when work prevented him from attending, he wrote a beautifully judged essay on the film for delegates – typical of a man who, like Martin Scorsese in the US, kept alive the links between present-day cinema and its rich past, to the benefit of both.\n",
      "\n",
      "Bertrand Tavernier OTHERS\n",
      "Bertrand Tavernier FILM-CREW\n",
      "\n",
      "152\n",
      "\n",
      "Tom Clancy’s Without Remorse review – macho adventure plays by the book\n",
      "\n",
      "In the last few years, screenwriter Taylor Sheridan brought something steely and smart to the action genre with the drug-cartel thriller Sicario and its politically provocative sequel Sicario 2, a Trumpian nightmare of border-incursion, directed by Stefano Sollima. Sheridan and Sollima are reunited for this movie, but it is a by-the-numbers macho adventure not unlike something from the era of VHS rental, Rambo and tough-guy military mavericks being sold down the river by the pointy-headed creeps in suits back in Washington DC or Langley, home of the CIA. This film is based on Tom Clancy’s 1993 bestseller, originally set during the Vietnam war, but now updated to the situation in Syria. Michael B Jordan is Navy Seal John Clark, whose pregnant wife is murdered on US soil, apparently by FSB agents in revenge for John taking out Russian special forces in Aleppo as part of a hostage rescue. So Without Remorse becomes essentially an unidirectional revenge story, as John is permitted back into the field on a deniable “black ops” payback mission. His friend and ally Karen (Jodie Turner-Smith, from Queen &amp; Slim) has John’s back and secretary of defense Clay (Guy Pearce) rather approves of his heroically unconventional methods – though slippery CIA chief Ritter (Jamie Bell) seems to be running some kind of side-hustle which involves appeasing the Russians. So whose side is this guy on? This is a film that certainly gives you bangs for your buck and establishment stabs in the back – a sine qua non for this kind of story. And with an awful inevitability, John Clark’s ultimate bad guy emerges from the shadows with some outrageous geopolitical monologuing in the approved supervillain style – prior to a post-credits sting setting up a possible superhero-type franchise along the lines author Tom Clancy envisioned. But there’s not much real spark to it. • Tom Clancy’s Without Remorse is released on 30 April on Amazon Prime Video.\n",
      "\n",
      "Tom Clancy’s Without Remorse FILM\n",
      "Without Remorse FILM\n",
      "\n",
      "154\n",
      "\n",
      "80-year-old review wrecks Citizen Kane’s 100% rating on Rotten Tomatoes\n",
      "\n",
      "An 80-year-old pseudonymous review appears to have wrecked Citizen Kane’s 100% rating on reviews aggregator site Rotten Tomatoes. A Twitter user pointed out the change in Citizen Kane’s rating, due to the addition of a negative review from 1941. It is not clear exactly when the change happened, but website Boing Boing suggested it must have been between 25 February and 15 April, after comparing archived screenshots. The review was originally published in the Chicago Tribune on 7 May 1941, under the headline “‘Citizen Kane’ fails to impress critic as greatest film ever made”, a week after its first release in New York and a day after its Chicago premiere. The writer, credited as Mae Tinee (a play on “matinee”) comments: “It’s interesting. It’s different. In fact, it’s bizarre enough to become a museum piece. But its sacrifice of simplicity to eccentricity robs it of distinction and general entertainment value,” adding: “I only know it gives one the creeps and that I kept wishing they’d let a little sunshine in.” The review implies that Citizen Kane’s status as the greatest movie of all time was already in play before it was released. This was possibly as response to a hostile campaign by its presumed subject, newspaper magnate WR Hearst, to suppress the film and attack Welles after he found out about it in January 1941 via feared gossip columnist Hedda Hopper. It was named best film of all time in Sight and Sound magazine’s decennial critics poll in 1962, retaining the position until 2012 when it was overtaken by Alfred Hitchcock’s Vertigo. Interest in the creative process behind Citizen Kane has been reawakened by the release of Mank, a biopic of its writer Herman J Mankiewicz, directed by David Fincher and starring Gary Oldman. Mank won two Oscars, for cinematography and production design. Reports that Citizen Kane had been “replaced” as the No 1 film by Paddington 2 on Rotten Tomatoes appear to be wide of the mark however. Rotten Tomatoes weighted list places the 1934 comedy It Happened One Night in first place, with Black Panther and Lady Bird in second and third. Paddington 2 is at no 31, but it is the highest placed film with a 100% critics rating.\n",
      "\n",
      "Citizen Kane FILM\n",
      "80-year-old review OTHERS\n",
      "\n",
      "158\n",
      "\n",
      "Polanski announces first new film since being expelled from Academy\n",
      "\n",
      "Roman Polanski has announced his first film to be put into production since the director was expelled from the Academy of Motion Picture Arts and Sciences (Ampas) in 2018. According to Variety, Polanski has secured backing from Italian media giant Rai Cinema for The Palace, a drama Polanski has co-written with fellow Polish film-maker Jerzy Skolimowski. Rai Cinema’s CEO Paolo Del Brocco said that The Palace is set on New Year’s Eve in 1999, and is about “a big hotel immersed in the Swiss Alps where the lives of the guests and those who work for them intersect”. Del Brocco added: “I know that Polanski carries some controversy, but we are interested in the artistic side. The quality of the stories, not the personal story.” Polanski, who is still wanted in the United States after he admitted the statutory rape of a 13-year-old girl in 1977, has become a major target for #MeToo campaigners in France. In 2020 he won a César, France’s equivalent to the Oscars, for best director for his previous film An Officer and a Spy, about the Dreyfus affair, sparking protests and walkouts, including by Portrait of a Lady on Fire’s Adèle Haenel. At the time, Ursula Le Menn, an activist with campaign group Osez le Féminisme, said: “For women who have had the courage to speak out about the abuse they suffered, there is an enormous pain seeing this man distinguished.” Polanski was expelled from Ampas in 2018 “in accordance with the organisation’s standards of conduct”. He subsequently lost a court case that would have forced his reinstatement. Polanski had been arrested in Switzerland in 2009 in relation to the outstanding US warrant against him, but was freed from house arrest 10 months later by the Swiss authorities. Rai Cinema was involved in An Officer and a Spy, which was first announced in 2012, before finally going before cameras in November 2018. Skolimowski was a contemporary of Polanski’s during the Polish “new wave” of the 1960s, co-writing Polanski’s debut feature Knife in the Water. In the 1970s and 80s he made a much-admired trilogy of films in the UK, Deep End, The Shout and Moonlighting. He returned to film-making in Poland with 2008’s Four Nights with Anna.\n",
      "\n",
      "Roman Polanski FILM\n",
      "Roman Polanski FILM-CREW\n",
      "\n"
     ]
    }
   ],
   "source": [
    "see_conflicts(anshul_chao_335, anshul_165_335, chao_165_335)"
   ]
  },
  {
   "cell_type": "code",
   "execution_count": 16,
   "id": "3053ce70-45f6-4e09-9f32-149b91bca8ad",
   "metadata": {},
   "outputs": [],
   "source": [
    "anshul_165_335.iloc[13]['central_entity'] = 'Golden Globes'\n",
    "anshul_165_335.iloc[93]['central_entity'] = 'Oscars'\n",
    "anshul_165_335.iloc[112]['central_entity'] = 'Golden Globes'\n",
    "anshul_165_335.iloc[118]['central_entity'] = 'Golden Globes'\n",
    "anshul_165_335.iloc[121]['central_entity'] = 'Oscars'\n",
    "anshul_165_335.iloc[158]['type'] = 'FILM-CREW'"
   ]
  },
  {
   "cell_type": "code",
   "execution_count": 17,
   "id": "7e2f12cd-676b-4a50-8117-9d5f251bf924",
   "metadata": {
    "tags": []
   },
   "outputs": [
    {
     "name": "stdout",
     "output_type": "stream",
     "text": [
      "43\n",
      "\n",
      "Peter Rabbit 2 tops box office as UK’s reopened cinemas take £2m in three days                \n",
      "\n",
      "A strong summer at the UK cinema looks like an increasingly realistic prospect following three impressive days at the box office. Cinemas were permitted to open their doors at 50% capacity on Monday, and film-lovers eager for a fix – or appalled by the weather – showed little hesitancy following seven months of smaller screens. Wednesday’s total was estimated to be around £760,000, up 41% from Tuesday, in part because of 120 Cineworld sites reopening that day, having remained closed on Monday and Tuesday. The three-day total is around £2.8m. Topping the chart is Peter Rabbit 2, the sequel to the 2018 hit, whose release has been long delayed because of the pandemic. Other healthy performers include Nomadland and Godzilla vs Kong, with audiences opting to see them on the big screen despite their availability on streaming platforms. Spiral: From the Book of Saw and The Unholy are also in the Top 5, with the bottom of the Top 10 entirely dominated by Warner Bros titles: Mortal Kombat, Judas and the Black Messiah, Those Who Wish Me Dead, Tom &amp; Jerry and The Little Things. This Friday’s releases include Billie Piper’s anti romcom Rare Beasts, with Disney hoping to woo the half term crowd the following Friday with Cruella, the 101 Dalmatians origins story starring Emma Stone. Cinemas had hoped to see their capacity restrictions lifted on 21 June in line with the wider measures, but questions are now being raised over the feasibility of such actions.\n",
      "\n",
      "UK cinema OTHERS\n",
      "box office OTHERS\n",
      "\n",
      "53\n",
      "\n",
      "Timothée Chalamet to play Willy Wonka in origins movie                                        \n",
      "\n",
      "Timothée Chalamet is set to take on the role of Willy Wonka in a new origins movie. According to Deadline, the Oscar-nominated star of Call Me by Your Name will follow in the footsteps of Gene Wilder and Johnny Depp in an all-singing and all-dancing performance in a prequel inspired by Roald Dahl’s book Charlie and the Chocolate Factory. The film will focus on the early years of Wonka before he opened his factory. Paul King, director of Paddington, will be at the helm with a screenplay from comedian Simon Farnaby. It will mark the third time Warner Brothers has brought the character to life, first in 1971 and then in 2005 with Tim Burton’s adaptation, which made $475m worldwide. The story was also turned into a successful musical. Last year it was announced that Taika Waititi, director of Thor: Ragnarok, would also be taking on two animated series for Netflix based on the world and characters of Dahl’s 1964 novel. The streamer has promised that the shows will “retain the quintessential spirit and tone of the original story while building out the world and characters far beyond the pages of the Dahl book for the very first time”. The 25-year-old actor was last seen in Greta Gerwig’s adaptation of Little Women and his upcoming films include Wes Anderson’s The French Dispatch, Denis Villeneuve’s take on Dune, marking his first major franchise role, and Adam McKay’s star-studded asteroid comedy Don’t Look Up alongside Jennifer Lawrence, Leonardo DiCaprio, Meryl Streep and Ariana Grande. The most recent adaptation of Dahl’s work was Robert Zemeckis’s version of The Witches starring Anne Hathaway and Octavia Spencer. Wonka is set to be released in 2023.\n",
      "\n",
      "Timothée Chalamet FILM\n",
      "Timothée Chalamet PERFORMER\n",
      "\n",
      "55\n",
      "\n",
      "Baby Jaws? Scar Face the Lion? The origin stories we’d like to see                            \n",
      "\n",
      "Nobody is ever really evil any more. The entertainment world has been working overtime filling in villain backstories lately, providing excuses and rationales for everyone from Joker to Maleficent, Hannibal to Nurse Ratched. Next up we have Disney’s Cruella, explaining what turned the 101 Dalmatians vamp from promising fashion designer to puppy-skinning wrong-un. What’s left when even a mass pet-killer is worthy of rehabilitation? Well, if you’re listening, Hollywood, here are a few ideas … Scar Face Jeff, as he was known back then, is the handsomest, most popular lion on the savannah. He is a gifted wildlife artist, and a vegetarian. Jeff’s prayers are answered when a comely lioness asks him to paint her portrait, but his brother Mufasa gets jealous and sends round the baboon mafia to mess him up. The disfigured Jeff falls into a radioactive waterhole, which turns him evil. Jaws Junior: The Baby Shark Murders An innocent young shark pup growing up in Cape Cod is devastated when its mummy goes missing. Then daddy shark disappears. Then grandma shark. Then grandpa shark. A serial killer is hunting down Jaws’s family. Accompanied by a wisecracking halibut and a stoner squid, our hero sets off to find the culprit. They fail, so decide to eat everyone instead. Alien: Try to See Things from My Side A small-town xenomorph who dreams of bigger things elopes with a charming travelling salesmorph (or so he says). But after becoming pregnant, she catches him hugging the face of another. This resourceful single mother vows her several hundred children will never go hungry. The Curse of Bates We all know what turned Norman Bates into Psycho. And thanks to Bates Motel, we kind of know what turned Mother into Mother as well. But what about her mother? Turns out she was a nightmare, too. And her mother before that. In fact, as successive prequels reveal, the cursed Bates line extends all the way back to seventh-century Northumbria. Frozen Out Not a Disney movie (though if you buy a ticket thinking it is, that’s fine), but the tale of a happy little iceberg in the Arctic. On Christmas Eve, 1911, it is cruelly separated from the family ice shelf by a crashed conservation ship. As it drifts alone across the north Atlantic for four months, its innocence hardens into resolve. It plots revenge against all shipkind.\n",
      "\n",
      "villain backstories OTHERS\n",
      "None OTHERS\n",
      "\n",
      "83\n",
      "\n",
      "Jodie Foster gets honorary Palme d’Or from Cannes film festival                               \n",
      "\n",
      "Jodie Foster is to be awarded an honorary Palme d’Or by the Cannes film festival. Foster, who has won two Oscars for best actress (for The Accused and The Silence of the Lambs), will also be the festival’s guest of honour at its opening ceremony on 6 July. She first attended Cannes as a 13-year-old in 1976 as a cast member of Taxi Driver, which went on to win the Palme d’Or. Her third film as director, The Beaver, was screened out of competition at the festival in 2011, as was her 2016 thriller Money Monster. Foster said: “Cannes is a festival to which I owe so much, it has completely changed my life. Although I had directed before, my first time on the Croisette was a defining moment for me. Showcasing one of my films here has always been a dream … Cannes is a festival by auteur film-makers who honour artists.” Festival president Pierre Lescure said: “Jodie Foster has provided us with an amazing gift by coming to celebrate the return of the festival on the Croisette.” Cannes general delegate Thierry Frémaux added: “Jodie never ceases to reinvent herself. She questions with her piercing gaze, learns from others, and is willing to step back from her beliefs in order to forge new morals.” Lescure and Frémaux are due to announce the festival’s lineup on 3 June after a series of delays to the event caused by the Covid pandemic. It is scheduled to go ahead in July, but new travel regulations brought in by the French government may prevent delegates from the UK from attending.\n",
      "\n",
      "Jodie Foster PERFORMER\n",
      "Jodie Foster OTHERS\n",
      "\n",
      "97\n",
      "\n",
      "Carey Mulligan and Zoe Kazan to star as reporters who exposed Weinstein                       \n",
      "\n",
      "Carey Mulligan and Zoe Kazan are set to take on the roles of the reporters who exposed Harvey Weinstein. In She Said, the pair will play Megan Twohey and Jodi Kantor, the New York Times journalists whose landmark expose helped to bring down the movie mogul accused and ultimately convicted of sexual assault. The film is an adaptation of the pair’s bestselling book She Said: Breaking the Sexual Harassment Story That Helped Ignite a Movement, which details their Pulitzer prize-winning work that exposed Weinstein as a predator. He was sentenced to 23 years in prison. The Guardian’s Helen Lewis praised the book as “a hymn to old-fashioned investigative reporting” comparing parts of it to All the President’s Men. The spirit of the adaptation is being likened both to the Watergate drama and the Oscar-winning Spotlight about a team of journalists investigating allegations of sexual abuse within the Catholic church. The Universal Pictures project will be directed by Maria Schrader, who recently won an Emmy for her work on the hit Netflix drama Unorthodox. The script will come from British playwright and screenwriter Rebecca Lenkiewicz whose big screen work includes Ida and Disobedience. The news comes after Mulligan received rave reviews and awards attention for her role in the revenge thriller Promising Young Woman. She is currently filming fact-based sci-fi drama Spaceman alongside Adam Sandler. Kazan, best known for her performance in The Big Sick, was most recently seen in HBO’s miniseries The Plot Against America. She is also set to star in social media-based drama series Clickbait with Adrian Grenier. Mulligan and Kazan have previously co-starred on stage in a Broadway production of The Seagull.\n",
      "\n",
      "Carey Mulligan and Zoe Kazan PERFORMER\n",
      "Carey Mulligan and Zoe Kazan  PERFORMER\n",
      "\n",
      "101\n",
      "\n",
      "Cannes: Joanna Hogg and Clio Barnard to premiere new films in Directors’ Fortnight            \n",
      "\n",
      "The Cannes film festival has announced more of its lineup with the selections for the Directors’ Fortnight, the separate strand that runs alongside the official festival and the Critics’ Week. Highlights of the Directors’ Fortnight include new films from British directors Joanna Hogg and Clio Barnard, an Italian documentary which includes Happy as Lazzaro’s Alice Rohrwacher among its three directors, and a new musical co-directed by musician-actor Saul Williams and Rwandan film-maker Anisia Uzeyman. Hogg will be premiering The Souvenir Part II, the follow-up to her loosely autobiographical 2019 drama The Souvenir, which like the first film will feature Honor Swinton Byrne in the lead role. Barnard, whose last film was the 2017 drama Dark River, and who is currently working on the Apple TV mini-series The Essex Serpent, is due to bring Ali &amp; Ava to Cannes; starring Adeel Akhtar and Claire Rushbrook, it is described as “a contemporary British love story that explores the intricacies of age, class and race”. Meanwhile Rohwacher, who won the best screenplay award at the 2018 Cannes film festival for Happy as Lazzaro, joins Pietro Marcello and Francesco Munzi for a documentary, Futura, billed as an examination of “the different expectations and prospects for the future” of Italian teenagers. Williams and Uzeyman have joined forces on Neptune’s Frost, which Williams described as “the love story between an inter-sex runaway, a coltan miner and the virtual marvel born as a result of their union”. Hogg and Barnard’s participation will provide some comfort for the British film industry, after no UK directors were selected for the official competition or the Critics’ Week lineup, the only British director already involved being Andrea Arnold, whose documentary Cow is showing in a new sidebar called Cannes Premieres. However, the Directors’ Fortnight selection has shown up the official selection’s continuing reluctance to select female film-makers. Twelve out of the Directors’ Fortnight’s 30 directors are women, while only four of out of the 24 directors competing for the Palme d’Or are female. The festival also recently announced it will screen the new Fast and Furious film, F9, in its French premiere, though it will have opened across most of the world by the end of June. The Cannes film festival is due to run from 6-17 July, after being delayed from its traditional mid-May calendar slot.\n",
      "\n",
      "Directors’ Fortnight OTHERS\n",
      "The Cannes film festival OTHERS\n",
      "\n",
      "107\n",
      "\n",
      "Lin-Manuel Miranda’s In the Heights could boost movie theaters’ recovery                      \n",
      "\n",
      "The eagerly awaited Lin-Manuel Miranda movie In the Heights has arrived with enthusiastic fans headed to theaters and HBO Max on Thursday and through the weekend. The film, which centers on a group of Latino characters in the Washington Heights neighborhood of New York City, has received largely positive reviews, and signs are that it is set to reel in big audiences, following a slew of other popular releases such as A Quiet Place Part 2 and Godzilla vs Kong hoping to draw people back to theaters this summer. In a poll of 1,300 moviegoers by the ticketing company Fandango, 96% of responders said In the Heights, which follows Miranda’s successful Broadway musical, would be the first film they go to post-pandemic, while the Jon M Chu-directed film is the top-selling show for this Friday and Saturday. If the film can turn out viewers, it will be a boost for an industry hit hard by the pandemic. Movie theaters were among the last places to reopen from lockdown in most states, and in New York, to take one example, most are still limited to about one-third capacity. In an interview with NBC, Miranda, who co-wrote the film with Quiara Alegría Hudes, the pair wanted to highlight Latino characters and culture, which are both frequently overlooked in Hollywood output. “We’re making up for lost time,” Miranda said. The film is based on Miranda’s 2008 musical of the same name, which preceded his global hit, Hamilton. He told NBC he and Hudes wanted to create non-stereotypical Latino characters: “Quiara and I stuck to our guns and stuck to what we felt was important in the storytelling of the show.” The first quarter of 2021 saw a decline of 90% in movie theater ticket sales, CNBC reported, but with 75% of North American theaters now open, the last two weekends have set pandemic-era records for tickets sold. Over the four-day Memorial Day weekend North America theaters brought in $100m in ticket sales – less than half the $232m over the same period in 2019, but an encouraging sign for studio executives. The Guardian critic Peter Bradshaw gave In the Heights three stars, describing it as “a sweet-natured film with Sunny-D optimism and a no-place-like-home ethic”, with “a pretty quaint image of street life, whose unrealities probably worked better on stage”.\n",
      "\n",
      "Lin-Manuel Miranda PERFORMER\n",
      "In the Heights  FILM\n",
      "\n",
      "146\n",
      "\n",
      "Michael B Jordan renames rum after accusations of cultural appropriation                      \n",
      "\n",
      "Michael B Jordan has issued an apology, in the fallout from his announcement over the weekend that he was launching a line of rums called J’Ouvert. The term signals the start of carnival in the Caribbean and is a cornerstone of tradition in Trinidad and Tobago; Jordan’s use of the word was felt by many to be cultural appropriation. Critics were particularly angered by the line in Jordan’s trademark filing that claimed the term has “no meaning in a foreign language”. An online petition to stop the trademark had already topped 12,000 signatures and the government of the islands also expressed deep concern over the plan. Singer Nicki Minaj, who comes from Trinidad, urged Jordan to change the “offensive” name on Tuesday; later that day Jordan posted an apology on Instagram Stories. “I just wanna say on behalf of myself &amp; my partners, our intention was never to offend or hurt a culture (we love &amp; respect) &amp; hoped to celebrate &amp; shine a positive light on,” he wrote. “Last few days has been a lot of listening. A lot of learning &amp; engaging in countless community conversations ...” “We hear you. I hear you &amp; want to be clear that we are in the process of renaming. We sincerely apologize &amp; look forward to introducing a brand we can all be proud of.” The term “J’Ouvert” originates from the French for daybreak; its relationship with the start of carnival in the Caribbean dates back to the 1800s. At the start of the week, the minister of trade and industry, Paula Gopee-Scoon, told Trinidad and Tobago Newsday the intellectual property implications of the filing were “of extreme concern”.\n",
      "\n",
      "Michael B Jordan PERFORMER\n",
      "Michael B Jordan OTHERS\n",
      "\n"
     ]
    }
   ],
   "source": [
    "see_conflicts(chao_wei_500, wei_335_500, chao_335_500)"
   ]
  },
  {
   "cell_type": "code",
   "execution_count": 18,
   "id": "850c910f-2bb0-4375-9d49-d1995410b10d",
   "metadata": {},
   "outputs": [],
   "source": [
    "chao_335_500.iloc[43]['central_entity'] = 'UK Cinemas'\n",
    "chao_335_500.iloc[83]['type'] = 'PERFORMER'\n",
    "chao_335_500.iloc[97]['central_entity'] = 'Carey Mulligan'"
   ]
  },
  {
   "cell_type": "markdown",
   "id": "c9a7a051-81fd-4e53-9435-cf2524f2acbb",
   "metadata": {},
   "source": [
    "#### - The resultant three dataframes, (after resolving conflicts from each of the three aforementioned pairs), were concatenated in order to achieve the final annotated corpus."
   ]
  },
  {
   "cell_type": "code",
   "execution_count": 19,
   "id": "8d5d7fec-9cfe-4876-9ff3-0119dc0daa2f",
   "metadata": {},
   "outputs": [],
   "source": [
    "final_df = pd.concat([anshul_165, anshul_165_335, chao_335_500], ignore_index=True)"
   ]
  },
  {
   "cell_type": "code",
   "execution_count": 20,
   "id": "09624e6c-e562-4603-a2ae-9a574093d359",
   "metadata": {},
   "outputs": [
    {
     "data": {
      "text/html": [
       "<div>\n",
       "<style scoped>\n",
       "    .dataframe tbody tr th:only-of-type {\n",
       "        vertical-align: middle;\n",
       "    }\n",
       "\n",
       "    .dataframe tbody tr th {\n",
       "        vertical-align: top;\n",
       "    }\n",
       "\n",
       "    .dataframe thead th {\n",
       "        text-align: right;\n",
       "    }\n",
       "</style>\n",
       "<table border=\"1\" class=\"dataframe\">\n",
       "  <thead>\n",
       "    <tr style=\"text-align: right;\">\n",
       "      <th></th>\n",
       "      <th>Title</th>\n",
       "      <th>Text</th>\n",
       "      <th>central_entity</th>\n",
       "      <th>type</th>\n",
       "    </tr>\n",
       "  </thead>\n",
       "  <tbody>\n",
       "    <tr>\n",
       "      <th>0</th>\n",
       "      <td>Bloody Nose, Empty Pockets review – bitterswee...</td>\n",
       "      <td>It’s the “last day in paradise” for Las Vegas ...</td>\n",
       "      <td>Bloody Nose, Empty Pockets</td>\n",
       "      <td>FILM</td>\n",
       "    </tr>\n",
       "    <tr>\n",
       "      <th>1</th>\n",
       "      <td>Sylvie's Love review – Tessa Thompson captivat...</td>\n",
       "      <td>Sylvie (Tessa Thompson) has been taught by her...</td>\n",
       "      <td>Sylvie's Love</td>\n",
       "      <td>FILM</td>\n",
       "    </tr>\n",
       "    <tr>\n",
       "      <th>2</th>\n",
       "      <td>Deliver Us From Evil review – frenzied hit-man...</td>\n",
       "      <td>There’s a throb of menace driving this gonzo a...</td>\n",
       "      <td>Deliver Us From Evil</td>\n",
       "      <td>FILM</td>\n",
       "    </tr>\n",
       "    <tr>\n",
       "      <th>3</th>\n",
       "      <td>The Call review – a phoned-in mix of ghouls, g...</td>\n",
       "      <td>This telephonically themed horror film, set in...</td>\n",
       "      <td>The Call</td>\n",
       "      <td>FILM</td>\n",
       "    </tr>\n",
       "    <tr>\n",
       "      <th>4</th>\n",
       "      <td>This Is Not a Burial, It’s a Resurrection revi...</td>\n",
       "      <td>This is an extraordinary and otherworldly feat...</td>\n",
       "      <td>This Is Not a Burial, It’s a Resurrection</td>\n",
       "      <td>FILM</td>\n",
       "    </tr>\n",
       "    <tr>\n",
       "      <th>...</th>\n",
       "      <td>...</td>\n",
       "      <td>...</td>\n",
       "      <td>...</td>\n",
       "      <td>...</td>\n",
       "    </tr>\n",
       "    <tr>\n",
       "      <th>495</th>\n",
       "      <td>Lapsis review – sci-fi satire targets the gig ...</td>\n",
       "      <td>This sensitive but flawed sci-fi comic dystopi...</td>\n",
       "      <td>Lapsis</td>\n",
       "      <td>FILM</td>\n",
       "    </tr>\n",
       "    <tr>\n",
       "      <th>496</th>\n",
       "      <td>The Place of No Words review – a dying father’...</td>\n",
       "      <td>This film is a charming family affair. Directo...</td>\n",
       "      <td>The Place of No Words</td>\n",
       "      <td>FILM</td>\n",
       "    </tr>\n",
       "    <tr>\n",
       "      <th>497</th>\n",
       "      <td>White on White review – a damning snapshot of ...</td>\n",
       "      <td>Colonisation does not come off well in this sp...</td>\n",
       "      <td>White on White</td>\n",
       "      <td>FILM</td>\n",
       "    </tr>\n",
       "    <tr>\n",
       "      <th>498</th>\n",
       "      <td>Embattled review – oddly compelling and nuance...</td>\n",
       "      <td>Part classic montage-showdown sports movie, pa...</td>\n",
       "      <td>Embattled</td>\n",
       "      <td>FILM</td>\n",
       "    </tr>\n",
       "    <tr>\n",
       "      <th>499</th>\n",
       "      <td>A Perfect Enemy review – devious Euro-thriller...</td>\n",
       "      <td>“Perfection is achieved, not when there is not...</td>\n",
       "      <td>A Perfect Enemy</td>\n",
       "      <td>FILM</td>\n",
       "    </tr>\n",
       "  </tbody>\n",
       "</table>\n",
       "<p>500 rows × 4 columns</p>\n",
       "</div>"
      ],
      "text/plain": [
       "                                                 Title  \\\n",
       "0    Bloody Nose, Empty Pockets review – bitterswee...   \n",
       "1    Sylvie's Love review – Tessa Thompson captivat...   \n",
       "2    Deliver Us From Evil review – frenzied hit-man...   \n",
       "3    The Call review – a phoned-in mix of ghouls, g...   \n",
       "4    This Is Not a Burial, It’s a Resurrection revi...   \n",
       "..                                                 ...   \n",
       "495  Lapsis review – sci-fi satire targets the gig ...   \n",
       "496  The Place of No Words review – a dying father’...   \n",
       "497  White on White review – a damning snapshot of ...   \n",
       "498  Embattled review – oddly compelling and nuance...   \n",
       "499  A Perfect Enemy review – devious Euro-thriller...   \n",
       "\n",
       "                                                  Text  \\\n",
       "0    It’s the “last day in paradise” for Las Vegas ...   \n",
       "1    Sylvie (Tessa Thompson) has been taught by her...   \n",
       "2    There’s a throb of menace driving this gonzo a...   \n",
       "3    This telephonically themed horror film, set in...   \n",
       "4    This is an extraordinary and otherworldly feat...   \n",
       "..                                                 ...   \n",
       "495  This sensitive but flawed sci-fi comic dystopi...   \n",
       "496  This film is a charming family affair. Directo...   \n",
       "497  Colonisation does not come off well in this sp...   \n",
       "498  Part classic montage-showdown sports movie, pa...   \n",
       "499  “Perfection is achieved, not when there is not...   \n",
       "\n",
       "                                central_entity  type  \n",
       "0                   Bloody Nose, Empty Pockets  FILM  \n",
       "1                                Sylvie's Love  FILM  \n",
       "2                         Deliver Us From Evil  FILM  \n",
       "3                                     The Call  FILM  \n",
       "4    This Is Not a Burial, It’s a Resurrection  FILM  \n",
       "..                                         ...   ...  \n",
       "495                                     Lapsis  FILM  \n",
       "496                      The Place of No Words  FILM  \n",
       "497                             White on White  FILM  \n",
       "498                                  Embattled  FILM  \n",
       "499                            A Perfect Enemy  FILM  \n",
       "\n",
       "[500 rows x 4 columns]"
      ]
     },
     "execution_count": 20,
     "metadata": {},
     "output_type": "execute_result"
    }
   ],
   "source": [
    "final_df"
   ]
  },
  {
   "cell_type": "markdown",
   "id": "980d0bac-8c21-4810-809c-41fe4f0fca7e",
   "metadata": {},
   "source": [
    "#### - The resultant dataframe was exported as a tsv file. "
   ]
  },
  {
   "cell_type": "code",
   "execution_count": 21,
   "id": "527e8c13-6b2b-48ba-8900-5d47b8b5adf1",
   "metadata": {},
   "outputs": [],
   "source": [
    "final_df.to_csv('final_annotated_corpus.tsv', sep='\\t', encoding='utf-8', index=False)"
   ]
  },
  {
   "cell_type": "markdown",
   "id": "da21a4bc-89d7-4d11-9fc5-bf7b10c2f749",
   "metadata": {},
   "source": [
    "## The annotation process"
   ]
  },
  {
   "cell_type": "markdown",
   "id": "be95063f-2ad8-4482-928d-49f85f3d7198",
   "metadata": {},
   "source": [
    "### Overview"
   ]
  },
  {
   "cell_type": "markdown",
   "id": "bb14058c-f391-4b3b-bc23-05e3964c8511",
   "metadata": {},
   "source": [
    "Overall, keeping aside small challenges, the entire process was pretty straightforward and simple. Converting the raw corpus to the final annotated corpus was made relatively easier by utilizing the Python libraries. Adhering to the annotation guidelines, each of the team member was able to annotate the data quite efficiently and the inter-annotator scores achieved as a consequence, as detailed in another document, were quite high. Given the conflicts in inter-annotations were few, they were manually weeded out in a short amount of time as demonstrated above. Thus, the workflow was mostly manageable and yielded promising results. "
   ]
  },
  {
   "cell_type": "markdown",
   "id": "36b0e392-b570-4a10-9048-85c9aac4f2f9",
   "metadata": {},
   "source": [
    "### Challenges"
   ]
  },
  {
   "cell_type": "markdown",
   "id": "49852dd7-7ab6-41a3-9468-f035a2c6123f",
   "metadata": {},
   "source": [
    "#### Not working with Amazon Mechanical Turk"
   ]
  },
  {
   "cell_type": "markdown",
   "id": "0bb941b0-ed78-460f-ae3c-a1643ac7a610",
   "metadata": {},
   "source": [
    "Initially, the team had wanted to work with AWS' Mechanical Turk. To consider this option, the team had previously carried out three pilot studies with two of them being unsuccessful. After carefully re-writing instructions, the third pilot study was eventually a success. Nonetheless, with a annotation task as complicated as this, there was room for errors. Considering the enormity of the corpus, the complexity of the annotation task as well as the financial and the time resources at hand, the team eventually decided against working with the Mechanical Turk and doing the annotations on its own. Annotating the corpus did cost the team a little time but overall much time has been saved, while the quality of annotations has also been ensured. "
   ]
  },
  {
   "cell_type": "markdown",
   "id": "9c431f7c-b57d-4e7d-88f0-061039fa87ad",
   "metadata": {},
   "source": [
    "#### Annotation-specific challenges"
   ]
  },
  {
   "cell_type": "markdown",
   "id": "5dfc4670-1e19-4869-ac18-6ce0ef1eec34",
   "metadata": {},
   "source": [
    "##### central_entity"
   ]
  },
  {
   "cell_type": "markdown",
   "id": "ee415a48-5d16-43e7-8cde-e8afc0d40b96",
   "metadata": {},
   "source": [
    "- For certain instances, it was hard to figure out any tangible central entity at all. In such cases, the team decided to annotate the entity as `None`.\n",
    "- There were instances where more than one entity could be identified as central to the article. However, to maintain the quality and uniformity of the annotations, only one of the two entities were annotated at random. \n",
    "- There were also instances where technically the central entity should have been an abstract concept or an irrelevant non-living entity. In such cases, the entities were either identified as `None` or another entity in the article that seemed more relevant."
   ]
  },
  {
   "cell_type": "markdown",
   "id": "657c9f8c-9ef4-4f35-9bf5-c9623751023a",
   "metadata": {},
   "source": [
    "##### type"
   ]
  },
  {
   "cell_type": "markdown",
   "id": "03a86f91-c51f-4544-b6d5-170b0a20e79d",
   "metadata": {},
   "source": [
    "- For some news articles, identifying the type of the entity was a hard task. In such cases, the team decided to annotate the type as `OTHERS`.\n",
    "- There were cases where the type of entity, simply owing to its popularity, was well understood by the team. However, if the type of entity was not made clear in the article itself, it was assigned as `OTHERS`.\n",
    "- Another challenge that came up was annotating those entities which were identified as press associations or award shows. The frequencies of articles with these award shows as the central entity were mistakenly underestimated. The team felt another `type` category such as `MEDIA` could have been defined for such instances but given the limitation of time, it was decided to club these articles with type `OTHERS` for now."
   ]
  }
 ],
 "metadata": {
  "kernelspec": {
   "display_name": "Python 3",
   "language": "python",
   "name": "python3"
  },
  "language_info": {
   "codemirror_mode": {
    "name": "ipython",
    "version": 3
   },
   "file_extension": ".py",
   "mimetype": "text/x-python",
   "name": "python",
   "nbconvert_exporter": "python",
   "pygments_lexer": "ipython3",
   "version": "3.9.5"
  }
 },
 "nbformat": 4,
 "nbformat_minor": 5
}
