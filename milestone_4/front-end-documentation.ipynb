{
 "cells": [
  {
   "cell_type": "markdown",
   "id": "adb231e1-b4de-4c08-b405-0b083ae3b93d",
   "metadata": {},
   "source": [
    "# Front End documentation"
   ]
  },
  {
   "cell_type": "markdown",
   "id": "d1b63aeb-74dc-4ba9-add5-03766fb29530",
   "metadata": {},
   "source": [
    "## Landing page (Corpus)"
   ]
  },
  {
   "cell_type": "markdown",
   "id": "f8b0ed81-0fa7-4132-a3b5-74f8e54b2f59",
   "metadata": {},
   "source": [
    "The `index.html` page of the web-app is the `Corpus` page. This page allows users to access the corpus in an interactive function. It consists of the following sections:"
   ]
  },
  {
   "cell_type": "markdown",
   "id": "3e5d82bc-1d1f-4d84-80ac-2d885a7f3656",
   "metadata": {},
   "source": [
    "### Navigation Bar"
   ]
  },
  {
   "cell_type": "markdown",
   "id": "d2616c9e-03aa-4194-acea-17d4748d0f40",
   "metadata": {},
   "source": [
    "On the left side of the page, the navigation bar consists of three links:"
   ]
  },
  {
   "cell_type": "markdown",
   "id": "7f477f27-1d0c-4390-b203-957e52303401",
   "metadata": {},
   "source": [
    "- Link to the About page\n",
    "- Link to the Corpus page itself\n",
    "- Link to the Analysis page"
   ]
  },
  {
   "cell_type": "markdown",
   "id": "8244d7d6-8614-4c94-bf12-0de51780d5ca",
   "metadata": {},
   "source": [
    "On the right side of the page, the navigation bar consists of the `Download Corpus` button. This button allows the users to download the corpus in `.tsv` format."
   ]
  },
  {
   "cell_type": "markdown",
   "id": "b5e9ecb4-8ad2-41ef-a5d5-6c8f84303590",
   "metadata": {},
   "source": [
    "### Search Section"
   ]
  },
  {
   "cell_type": "markdown",
   "id": "3a0d99cd-d3b0-4f2e-9964-07b40b585a0b",
   "metadata": {},
   "source": [
    "This section allows the users to access the corpus. It consists of:"
   ]
  },
  {
   "cell_type": "markdown",
   "id": "17a7f823-f729-491d-a99a-f8a915768dbe",
   "metadata": {},
   "source": [
    "- **Search bar**: It allows the users to type down a keyword or keywords that they want to find in the corpus.\n",
    "- **`Search within` checkboxes**: It allows the users to narrow down their search to just text (title and text), Central Entity or All. Multiple options can be selected at once. To deselect or select, just click on the text of the option that the search ought to be narrowed down to. `All` checkbox is checked by default. \n",
    "- **`Select Entity type` checkboxes**: It allows the users to narrow down their search to one or more of the central entity types, namely: `FILM`, `PERFORMER`, `FILM-CREW`, `OTHERS`. It also contains another option, `ALL`. Multiple options can be selected at once. To deselect or select, just click on the text of the option that the search ought to be narrowed down to. `ALL` checkbox is checked by default. "
   ]
  },
  {
   "cell_type": "markdown",
   "id": "96fe204c-54f4-46ec-8d33-4290eb4be492",
   "metadata": {},
   "source": [
    "### View Section"
   ]
  },
  {
   "cell_type": "markdown",
   "id": "51fafefb-30fb-4806-b3c3-38bd718b2067",
   "metadata": {},
   "source": [
    "This section allows the users to view the corpus based on their search. Only 10 entries from the corpus are allowed to be viewed on the same page. To access further entries, pagination buttons (previous and next) are provided, along with the total page count and the current page number."
   ]
  },
  {
   "cell_type": "markdown",
   "id": "ac0616a3-2f34-4c47-be77-e454f38ba701",
   "metadata": {},
   "source": [
    "## About page"
   ]
  },
  {
   "cell_type": "markdown",
   "id": "75bf2fc1-4864-43f4-ae2e-7882cc3a9823",
   "metadata": {},
   "source": [
    "The `index.html` page of the web-app is the `About` page. This page provides users with the background of the entire corpus building process. It consists of the following sections:"
   ]
  },
  {
   "cell_type": "markdown",
   "id": "631a6e3c-7b03-4abe-8528-517226446f85",
   "metadata": {},
   "source": [
    "### Navigation Bar"
   ]
  },
  {
   "cell_type": "markdown",
   "id": "3281d344-d3a0-4cc4-a912-d873c571cec9",
   "metadata": {},
   "source": [
    "On the left side of the page, the navigation bar consists of three links:"
   ]
  },
  {
   "cell_type": "markdown",
   "id": "09cc0528-1a86-4479-a0c6-b083ded9bff0",
   "metadata": {},
   "source": [
    "- Link to the About page itself\n",
    "- Link to the Corpus page\n",
    "- Link to the Analysis page"
   ]
  },
  {
   "cell_type": "markdown",
   "id": "02b0fd6d-0f92-4725-bd97-d55f93574038",
   "metadata": {},
   "source": [
    "On the right side of the page, the navigation bar consists of the `Download Corpus` button. This button allows the users to download the corpus in `.tsv` format."
   ]
  },
  {
   "cell_type": "markdown",
   "id": "da9e6809-e2bf-4765-9c1e-901f26befacd",
   "metadata": {},
   "source": [
    "### Motivation for corpus building"
   ]
  },
  {
   "cell_type": "markdown",
   "id": "f90d20d7-42b1-4e13-bb48-9e082ea9585c",
   "metadata": {},
   "source": [
    "This section discusses the conception of the idea behind the corpus and the motivation behind it."
   ]
  },
  {
   "cell_type": "markdown",
   "id": "f7f573a1-0fa7-4d06-813a-4ca0141f8f85",
   "metadata": {},
   "source": [
    "### Data source of the corpus"
   ]
  },
  {
   "cell_type": "markdown",
   "id": "9bd0276e-d104-451c-b8a5-6af4f9ce7c9b",
   "metadata": {},
   "source": [
    "This section talks about the data source that was used to build the corpus."
   ]
  },
  {
   "cell_type": "markdown",
   "id": "25549b97-e92a-4407-91bf-d7dfc98e7189",
   "metadata": {},
   "source": [
    "### Corpus Collection and Annotation"
   ]
  },
  {
   "cell_type": "markdown",
   "id": "5f1c427d-2fec-45aa-bce7-5c859362a2b6",
   "metadata": {},
   "source": [
    "This section details the corpus collection, building as well as the annotation process."
   ]
  },
  {
   "cell_type": "markdown",
   "id": "aa7830f6-305c-4e98-b3e7-38bb2a3bf52b",
   "metadata": {},
   "source": [
    "## Analysis page"
   ]
  },
  {
   "cell_type": "markdown",
   "id": "3ad087b6-006f-4e98-bd91-88f066ba8e82",
   "metadata": {},
   "source": [
    "The `statistics.html` page of the web-app is the `Analysis` page. This page provides users with some insights into the statistical properties of the corpus. It consists of the following sections:"
   ]
  },
  {
   "cell_type": "markdown",
   "id": "bbfb1ade-258b-4153-808e-d70d03f47c46",
   "metadata": {},
   "source": [
    "### Navigation Bar"
   ]
  },
  {
   "cell_type": "markdown",
   "id": "a62f67f0-a5db-4d25-9003-80cca5890f2d",
   "metadata": {},
   "source": [
    "On the left side of the page, the navigation bar consists of three links:"
   ]
  },
  {
   "cell_type": "markdown",
   "id": "393745f7-3400-495e-8406-9d46b971d634",
   "metadata": {},
   "source": [
    "- Link to the About page\n",
    "- Link to the Corpus page\n",
    "- Link to the Analysis page itself"
   ]
  },
  {
   "cell_type": "markdown",
   "id": "5c788e60-7345-4b42-814e-d386b3ef7eb7",
   "metadata": {},
   "source": [
    "On the right side of the page, the navigation bar consists of the `Download Corpus` button. This button allows the users to download the corpus in `.tsv` format."
   ]
  },
  {
   "cell_type": "markdown",
   "id": "23969f24-67d4-4f01-9192-3fb4876141ff",
   "metadata": {},
   "source": [
    "### Data Distribution"
   ]
  },
  {
   "cell_type": "markdown",
   "id": "343534c2-86cf-4118-8009-d3c0041ad5c9",
   "metadata": {},
   "source": [
    "This section visualizes the distribution of the type of central entities identified in the corpus."
   ]
  },
  {
   "cell_type": "markdown",
   "id": "94695e6e-f0cf-4e33-8afa-cd9862472532",
   "metadata": {},
   "source": [
    "### Common words for central entites"
   ]
  },
  {
   "cell_type": "markdown",
   "id": "873353d8-c82b-48ee-ac73-528865dde67f",
   "metadata": {},
   "source": [
    "A word cloud for the most common words in central entities."
   ]
  },
  {
   "cell_type": "markdown",
   "id": "01bd2d1d-e2a7-4396-8f48-494fec9364cc",
   "metadata": {},
   "source": [
    "### Common words for text"
   ]
  },
  {
   "cell_type": "markdown",
   "id": "c233a186-5906-45ab-b9ca-c56a9c570132",
   "metadata": {},
   "source": [
    "A word cloud for the most common words in the corpus text, that is news title and text."
   ]
  }
 ],
 "metadata": {
  "kernelspec": {
   "display_name": "Python 3",
   "language": "python",
   "name": "python3"
  },
  "language_info": {
   "codemirror_mode": {
    "name": "ipython",
    "version": 3
   },
   "file_extension": ".py",
   "mimetype": "text/x-python",
   "name": "python",
   "nbconvert_exporter": "python",
   "pygments_lexer": "ipython3",
   "version": "3.9.5"
  }
 },
 "nbformat": 4,
 "nbformat_minor": 5
}
